{
  "cells": [
    {
      "cell_type": "markdown",
      "metadata": {
        "id": "view-in-github",
        "colab_type": "text"
      },
      "source": [
        "<a href=\"https://colab.research.google.com/github/EsraaMosaad/our_project/blob/main/TESAT_ALL_MODEL.ipynb\" target=\"_parent\"><img src=\"https://colab.research.google.com/assets/colab-badge.svg\" alt=\"Open In Colab\"/></a>"
      ]
    },
    {
      "cell_type": "code",
      "source": [
        "!pip install nltk --quiet\n",
        "\n",
        "!pip install spacy==2.3.5 --quiet\n",
        "\n",
        "!pip install https://github.com/explosion/spacy-models/releases/download/en_core_web_sm-2.3.1/en_core_web_sm-2.3.1.tar.gz --quiet"
      ],
      "metadata": {
        "colab": {
          "base_uri": "https://localhost:8080/"
        },
        "id": "a0Ym0ix1FxEe",
        "outputId": "4627bfba-408a-4ae7-a320-319bf083145e"
      },
      "execution_count": null,
      "outputs": [
        {
          "output_type": "stream",
          "name": "stdout",
          "text": [
            "  Installing build dependencies ... \u001b[?25l\u001b[?25hdone\n",
            "  Getting requirements to build wheel ... \u001b[?25l\u001b[?25hdone\n",
            "  Installing backend dependencies ... \u001b[?25l\u001b[?25hdone\n",
            "  Preparing metadata (pyproject.toml) ... \u001b[?25l\u001b[?25hdone\n",
            "  \u001b[1;31merror\u001b[0m: \u001b[1msubprocess-exited-with-error\u001b[0m\n",
            "  \n",
            "  \u001b[31m×\u001b[0m \u001b[32mBuilding wheel for spacy \u001b[0m\u001b[1;32m(\u001b[0m\u001b[32mpyproject.toml\u001b[0m\u001b[1;32m)\u001b[0m did not run successfully.\n",
            "  \u001b[31m│\u001b[0m exit code: \u001b[1;36m1\u001b[0m\n",
            "  \u001b[31m╰─>\u001b[0m See above for output.\n",
            "  \n",
            "  \u001b[1;35mnote\u001b[0m: This error originates from a subprocess, and is likely not a problem with pip.\n",
            "  Building wheel for spacy (pyproject.toml) ... \u001b[?25l\u001b[?25herror\n",
            "\u001b[31m  ERROR: Failed building wheel for spacy\u001b[0m\u001b[31m\n",
            "\u001b[0m\u001b[31mERROR: Could not build wheels for spacy, which is required to install pyproject.toml-based projects\u001b[0m\u001b[31m\n",
            "\u001b[2K     \u001b[90m━━━━━━━━━━━━━━━━━━━━━━━━━━━━━━━━━━━━━━━━\u001b[0m \u001b[32m12.0/12.0 MB\u001b[0m \u001b[31m47.1 MB/s\u001b[0m eta \u001b[36m0:00:00\u001b[0m\n",
            "\u001b[?25h  Preparing metadata (setup.py) ... \u001b[?25l\u001b[?25hdone\n"
          ]
        }
      ]
    },
    {
      "cell_type": "code",
      "execution_count": null,
      "metadata": {
        "id": "YbJss77ZkhRB",
        "colab": {
          "base_uri": "https://localhost:8080/"
        },
        "outputId": "60e9470c-6f10-49a5-a9e8-7a10bd2c833d"
      },
      "outputs": [
        {
          "output_type": "stream",
          "name": "stderr",
          "text": [
            "/usr/local/lib/python3.10/dist-packages/ipykernel/ipkernel.py:283: DeprecationWarning: `should_run_async` will not call `transform_cell` automatically in the future. Please pass the result to `transformed_cell` argument and any exception that happen during thetransform in `preprocessing_exc_tuple` in IPython 7.17 and above.\n",
            "  and should_run_async(code)\n"
          ]
        }
      ],
      "source": [
        "import numpy as np\n",
        "import matplotlib.pyplot as plt\n",
        "import seaborn as sns\n",
        "sns.set_style('darkgrid')\n",
        "import ast"
      ]
    },
    {
      "cell_type": "code",
      "source": [
        "!pip install pyresparser --quiet\n",
        "!pip install docx2txt --quiet\n",
        "!pip install textract --quiet\n",
        "!pip install PyPDF2 --quiet\n",
        "!pip install pdfminer3 --quiet\n",
        "!pip install opendatasets --quiet\n",
        "!pip install tika --quiet\n"
      ],
      "metadata": {
        "id": "Zkwj_Q4ITVR-"
      },
      "execution_count": null,
      "outputs": []
    },
    {
      "cell_type": "code",
      "execution_count": null,
      "metadata": {
        "colab": {
          "base_uri": "https://localhost:8080/"
        },
        "id": "G0eNEzgHnPeV",
        "outputId": "31536b73-89c8-445e-b065-00fdd16590cf"
      },
      "outputs": [
        {
          "output_type": "stream",
          "name": "stderr",
          "text": [
            "[nltk_data] Downloading package punkt to /root/nltk_data...\n",
            "[nltk_data]   Package punkt is already up-to-date!\n",
            "[nltk_data] Downloading package stopwords to /root/nltk_data...\n",
            "[nltk_data]   Package stopwords is already up-to-date!\n",
            "[nltk_data] Downloading package wordnet to /root/nltk_data...\n",
            "[nltk_data]   Package wordnet is already up-to-date!\n",
            "[nltk_data] Downloading package omw-1.4 to /root/nltk_data...\n",
            "[nltk_data]   Package omw-1.4 is already up-to-date!\n"
          ]
        }
      ],
      "source": [
        "import nltk\n",
        "nltk.download('punkt')\n",
        "nltk.download('stopwords')\n",
        "nltk.download('wordnet')\n",
        "nltk.download('omw-1.4')\n",
        "from nltk.corpus import stopwords\n",
        "STOPWORDS = set(stopwords.words('english'))\n",
        "from textblob import Word"
      ]
    },
    {
      "cell_type": "code",
      "source": [
        "!pip install pytesseract --quiet"
      ],
      "metadata": {
        "id": "eyZZNRgINhNm"
      },
      "execution_count": null,
      "outputs": []
    },
    {
      "cell_type": "code",
      "source": [
        "import requests\n",
        "import json\n",
        "import textract\n",
        "import PyPDF2\n",
        "import docx2txt\n",
        "from pyresparser import ResumeParser\n",
        "from tika import parser\n",
        "#Import all the dependencies\n",
        "!pip install python-docx  --quiet\n",
        "from docx import Document\n",
        "from gensim.models.doc2vec import Doc2Vec, TaggedDocument\n"
      ],
      "metadata": {
        "colab": {
          "base_uri": "https://localhost:8080/"
        },
        "id": "zqRRIVQKNF1i",
        "outputId": "2e95f63a-7522-4239-a5bd-c43f1a35f377"
      },
      "execution_count": null,
      "outputs": [
        {
          "output_type": "stream",
          "name": "stdout",
          "text": [
            "\u001b[31mERROR: Operation cancelled by user\u001b[0m\u001b[31m\n",
            "\u001b[0m"
          ]
        }
      ]
    },
    {
      "cell_type": "code",
      "execution_count": null,
      "metadata": {
        "id": "Gy6SOW593opg"
      },
      "outputs": [],
      "source": [
        "from sklearn.feature_extraction.text import TfidfVectorizer\n",
        "from sklearn.metrics.pairwise import cosine_similarity , manhattan_distances\n",
        "from sklearn.decomposition import TruncatedSVD\n"
      ]
    },
    {
      "cell_type": "code",
      "execution_count": null,
      "metadata": {
        "id": "Ml-he6GnP5Z2"
      },
      "outputs": [],
      "source": [
        "import spacy\n",
        "import pandas as pd\n",
        "import string\n",
        "import re\n",
        "from sklearn.feature_extraction.text import CountVectorizer\n",
        "from sklearn.naive_bayes import MultinomialNB\n",
        "from nltk.tokenize import word_tokenize\n",
        "from nltk.collocations import BigramAssocMeasures, BigramCollocationFinder"
      ]
    },
    {
      "cell_type": "code",
      "source": [
        "from google.colab import drive\n",
        "drive.mount('/content/drive')"
      ],
      "metadata": {
        "colab": {
          "base_uri": "https://localhost:8080/"
        },
        "id": "iz9CotWSj973",
        "outputId": "756622d2-4e42-4c14-c11d-c2631f9d8460"
      },
      "execution_count": null,
      "outputs": [
        {
          "output_type": "stream",
          "name": "stdout",
          "text": [
            "Drive already mounted at /content/drive; to attempt to forcibly remount, call drive.mount(\"/content/drive\", force_remount=True).\n"
          ]
        }
      ]
    },
    {
      "cell_type": "code",
      "execution_count": null,
      "metadata": {
        "id": "M_yQoPqmpsFb"
      },
      "outputs": [],
      "source": [
        "!cp /content/drive/MyDrive/Colab_Notebooks/kaggle_API_credentials/kaggle.json ~/.kaggle/kaggle.json\n",
        "!chmod 600 ~/.kaggle/kaggle.json"
      ]
    },
    {
      "cell_type": "code",
      "execution_count": null,
      "metadata": {
        "colab": {
          "base_uri": "https://localhost:8080/"
        },
        "id": "Pnl5EZ6Fpopt",
        "outputId": "b636ff83-c405-48c7-ad2a-7c0386f391c8"
      },
      "outputs": [
        {
          "output_type": "stream",
          "name": "stdout",
          "text": [
            "resume-dataset.zip: Skipping, found more recently modified local copy (use --force to force download)\n",
            "Archive:  /content/resume-dataset.zip\n",
            "replace UpdatedResumeDataSet.csv? [y]es, [n]o, [A]ll, [N]one, [r]ename: "
          ]
        }
      ],
      "source": [
        "!kaggle datasets download -d gauravduttakiit/resume-dataset\n",
        "!unzip /content/resume-dataset.zip"
      ]
    },
    {
      "cell_type": "code",
      "execution_count": null,
      "metadata": {
        "id": "nHeionjOi8Lo",
        "colab": {
          "base_uri": "https://localhost:8080/",
          "height": 658
        },
        "outputId": "0f8df36b-b7aa-483b-d494-3b04fe3e9b0b"
      },
      "outputs": [
        {
          "output_type": "execute_result",
          "data": {
            "text/plain": [
              "                                               Job_title  \\\n",
              "0                                        DevOps Engineer   \n",
              "1                                        DevOps Engineer   \n",
              "2                                        DevOps Engineer   \n",
              "3                          Cloud Infrastructure Engineer   \n",
              "4                                        DevOps Engineer   \n",
              "...                                                  ...   \n",
              "16951                  Real Estate Development Executive   \n",
              "16952  Protective Services Specialist Executive Prote...   \n",
              "16953                            Campus Security Manager   \n",
              "16954                                 Facilities Manager   \n",
              "16955                          Physical Security Manager   \n",
              "\n",
              "                                                Job_link  \\\n",
              "0      https://eg.linkedin.com/jobs/view/devops-engin...   \n",
              "1      https://eg.linkedin.com/jobs/view/devops-engin...   \n",
              "2      https://eg.linkedin.com/jobs/view/devops-engin...   \n",
              "3      https://eg.linkedin.com/jobs/view/cloud-infras...   \n",
              "4      https://eg.linkedin.com/jobs/view/devops-engin...   \n",
              "...                                                  ...   \n",
              "16951                                                NaN   \n",
              "16952                                                NaN   \n",
              "16953                                                NaN   \n",
              "16954                                                NaN   \n",
              "16955                                                NaN   \n",
              "\n",
              "                                         Job_description            Keyword  \\\n",
              "0      We looking DevOps Engineer join team develop s...        scrab_ddata   \n",
              "1      Who We Are We owned funded one Egypt renowned ...        scrab_ddata   \n",
              "2      Wind IS Company Oracle Partner Egypt KSA UAE h...        scrab_ddata   \n",
              "3      Who We Are We owned funded one Egypt renowned ...        scrab_ddata   \n",
              "4      About Axis We believe financial services acces...        scrab_ddata   \n",
              "...                                                  ...                ...   \n",
              "16951  Manage strategy execution innovation delivery ...  google_job_skills   \n",
              "16952  Plan implement large scale security operations...  google_job_skills   \n",
              "16953  Manage daily operations security vendors provi...  google_job_skills   \n",
              "16954  Collaborate functional teams plan manage deliv...  google_job_skills   \n",
              "16955  Partner closely offer guidance consultation Fa...  google_job_skills   \n",
              "\n",
              "                                                  skills  \\\n",
              "0      ['engineer', 'unwanted traffic', 'infrastructu...   \n",
              "1      ['perspectives', 'strong focus scalability sec...   \n",
              "2      ['development', 'engineer', 'Job Requirements ...   \n",
              "3      ['related', 'perspectives', 'big stay', 'suit'...   \n",
              "4      ['Jenkins CD Bambop CircleCI Git Action Gitlab...   \n",
              "...                                                  ...   \n",
              "16951  ['development', 'team', 'Land Use Process requ...   \n",
              "16952  ['Google events', 'event', 'equivalent practic...   \n",
              "16953  ['Familiarity Google', 'security safety vendor...   \n",
              "16954  ['vendor', 'health', 'multiple requests work f...   \n",
              "16955  ['Facility Operations Management', 'offer', 'P...   \n",
              "\n",
              "                                            way_2_skills  \\\n",
              "0      ['System', 'Analyze', 'Policies', 'Debugging',...   \n",
              "1      ['Technical', 'Linux', 'Workflow', 'Lifecycle'...   \n",
              "2      ['System', 'Website', 'Design', 'Engineering',...   \n",
              "3      ['Hardware', 'Dhcp', 'Linux', 'Cloud', 'Vmware...   \n",
              "4      ['Automation', 'Ansible', 'Docker', 'Security'...   \n",
              "...                                                  ...   \n",
              "16951  ['Schedule', 'Design', 'Engineering', 'Reports...   \n",
              "16952  ['Policies', 'Reports', 'Process', 'Research',...   \n",
              "16953  ['System', 'Compliance', 'Policies', 'Improvem...   \n",
              "16954  ['Security', 'Purchasing', 'Budget', 'Construc...   \n",
              "16955  ['Policies', 'Emea', 'Training', 'Protocols', ...   \n",
              "\n",
              "                                                combined  \n",
              "0      ['engineer', 'unwanted traffic', 'infrastructu...  \n",
              "1      ['perspectives', 'strong focus scalability sec...  \n",
              "2      ['development', 'engineer', 'Job Requirements ...  \n",
              "3      ['related', 'perspectives', 'big stay', 'suit'...  \n",
              "4      ['Jenkins CD Bambop CircleCI Git Action Gitlab...  \n",
              "...                                                  ...  \n",
              "16951  ['development', 'team', 'Land Use Process requ...  \n",
              "16952  ['Google events', 'event', 'equivalent practic...  \n",
              "16953  ['Familiarity Google', 'security safety vendor...  \n",
              "16954  ['vendor', 'health', 'multiple requests work f...  \n",
              "16955  ['Facility Operations Management', 'offer', 'P...  \n",
              "\n",
              "[16956 rows x 7 columns]"
            ],
            "text/html": [
              "\n",
              "  <div id=\"df-bcc174c7-8874-48c8-815b-c73bcec552b6\">\n",
              "    <div class=\"colab-df-container\">\n",
              "      <div>\n",
              "<style scoped>\n",
              "    .dataframe tbody tr th:only-of-type {\n",
              "        vertical-align: middle;\n",
              "    }\n",
              "\n",
              "    .dataframe tbody tr th {\n",
              "        vertical-align: top;\n",
              "    }\n",
              "\n",
              "    .dataframe thead th {\n",
              "        text-align: right;\n",
              "    }\n",
              "</style>\n",
              "<table border=\"1\" class=\"dataframe\">\n",
              "  <thead>\n",
              "    <tr style=\"text-align: right;\">\n",
              "      <th></th>\n",
              "      <th>Job_title</th>\n",
              "      <th>Job_link</th>\n",
              "      <th>Job_description</th>\n",
              "      <th>Keyword</th>\n",
              "      <th>skills</th>\n",
              "      <th>way_2_skills</th>\n",
              "      <th>combined</th>\n",
              "    </tr>\n",
              "  </thead>\n",
              "  <tbody>\n",
              "    <tr>\n",
              "      <th>0</th>\n",
              "      <td>DevOps Engineer</td>\n",
              "      <td>https://eg.linkedin.com/jobs/view/devops-engin...</td>\n",
              "      <td>We looking DevOps Engineer join team develop s...</td>\n",
              "      <td>scrab_ddata</td>\n",
              "      <td>['engineer', 'unwanted traffic', 'infrastructu...</td>\n",
              "      <td>['System', 'Analyze', 'Policies', 'Debugging',...</td>\n",
              "      <td>['engineer', 'unwanted traffic', 'infrastructu...</td>\n",
              "    </tr>\n",
              "    <tr>\n",
              "      <th>1</th>\n",
              "      <td>DevOps Engineer</td>\n",
              "      <td>https://eg.linkedin.com/jobs/view/devops-engin...</td>\n",
              "      <td>Who We Are We owned funded one Egypt renowned ...</td>\n",
              "      <td>scrab_ddata</td>\n",
              "      <td>['perspectives', 'strong focus scalability sec...</td>\n",
              "      <td>['Technical', 'Linux', 'Workflow', 'Lifecycle'...</td>\n",
              "      <td>['perspectives', 'strong focus scalability sec...</td>\n",
              "    </tr>\n",
              "    <tr>\n",
              "      <th>2</th>\n",
              "      <td>DevOps Engineer</td>\n",
              "      <td>https://eg.linkedin.com/jobs/view/devops-engin...</td>\n",
              "      <td>Wind IS Company Oracle Partner Egypt KSA UAE h...</td>\n",
              "      <td>scrab_ddata</td>\n",
              "      <td>['development', 'engineer', 'Job Requirements ...</td>\n",
              "      <td>['System', 'Website', 'Design', 'Engineering',...</td>\n",
              "      <td>['development', 'engineer', 'Job Requirements ...</td>\n",
              "    </tr>\n",
              "    <tr>\n",
              "      <th>3</th>\n",
              "      <td>Cloud Infrastructure Engineer</td>\n",
              "      <td>https://eg.linkedin.com/jobs/view/cloud-infras...</td>\n",
              "      <td>Who We Are We owned funded one Egypt renowned ...</td>\n",
              "      <td>scrab_ddata</td>\n",
              "      <td>['related', 'perspectives', 'big stay', 'suit'...</td>\n",
              "      <td>['Hardware', 'Dhcp', 'Linux', 'Cloud', 'Vmware...</td>\n",
              "      <td>['related', 'perspectives', 'big stay', 'suit'...</td>\n",
              "    </tr>\n",
              "    <tr>\n",
              "      <th>4</th>\n",
              "      <td>DevOps Engineer</td>\n",
              "      <td>https://eg.linkedin.com/jobs/view/devops-engin...</td>\n",
              "      <td>About Axis We believe financial services acces...</td>\n",
              "      <td>scrab_ddata</td>\n",
              "      <td>['Jenkins CD Bambop CircleCI Git Action Gitlab...</td>\n",
              "      <td>['Automation', 'Ansible', 'Docker', 'Security'...</td>\n",
              "      <td>['Jenkins CD Bambop CircleCI Git Action Gitlab...</td>\n",
              "    </tr>\n",
              "    <tr>\n",
              "      <th>...</th>\n",
              "      <td>...</td>\n",
              "      <td>...</td>\n",
              "      <td>...</td>\n",
              "      <td>...</td>\n",
              "      <td>...</td>\n",
              "      <td>...</td>\n",
              "      <td>...</td>\n",
              "    </tr>\n",
              "    <tr>\n",
              "      <th>16951</th>\n",
              "      <td>Real Estate Development Executive</td>\n",
              "      <td>NaN</td>\n",
              "      <td>Manage strategy execution innovation delivery ...</td>\n",
              "      <td>google_job_skills</td>\n",
              "      <td>['development', 'team', 'Land Use Process requ...</td>\n",
              "      <td>['Schedule', 'Design', 'Engineering', 'Reports...</td>\n",
              "      <td>['development', 'team', 'Land Use Process requ...</td>\n",
              "    </tr>\n",
              "    <tr>\n",
              "      <th>16952</th>\n",
              "      <td>Protective Services Specialist Executive Prote...</td>\n",
              "      <td>NaN</td>\n",
              "      <td>Plan implement large scale security operations...</td>\n",
              "      <td>google_job_skills</td>\n",
              "      <td>['Google events', 'event', 'equivalent practic...</td>\n",
              "      <td>['Policies', 'Reports', 'Process', 'Research',...</td>\n",
              "      <td>['Google events', 'event', 'equivalent practic...</td>\n",
              "    </tr>\n",
              "    <tr>\n",
              "      <th>16953</th>\n",
              "      <td>Campus Security Manager</td>\n",
              "      <td>NaN</td>\n",
              "      <td>Manage daily operations security vendors provi...</td>\n",
              "      <td>google_job_skills</td>\n",
              "      <td>['Familiarity Google', 'security safety vendor...</td>\n",
              "      <td>['System', 'Compliance', 'Policies', 'Improvem...</td>\n",
              "      <td>['Familiarity Google', 'security safety vendor...</td>\n",
              "    </tr>\n",
              "    <tr>\n",
              "      <th>16954</th>\n",
              "      <td>Facilities Manager</td>\n",
              "      <td>NaN</td>\n",
              "      <td>Collaborate functional teams plan manage deliv...</td>\n",
              "      <td>google_job_skills</td>\n",
              "      <td>['vendor', 'health', 'multiple requests work f...</td>\n",
              "      <td>['Security', 'Purchasing', 'Budget', 'Construc...</td>\n",
              "      <td>['vendor', 'health', 'multiple requests work f...</td>\n",
              "    </tr>\n",
              "    <tr>\n",
              "      <th>16955</th>\n",
              "      <td>Physical Security Manager</td>\n",
              "      <td>NaN</td>\n",
              "      <td>Partner closely offer guidance consultation Fa...</td>\n",
              "      <td>google_job_skills</td>\n",
              "      <td>['Facility Operations Management', 'offer', 'P...</td>\n",
              "      <td>['Policies', 'Emea', 'Training', 'Protocols', ...</td>\n",
              "      <td>['Facility Operations Management', 'offer', 'P...</td>\n",
              "    </tr>\n",
              "  </tbody>\n",
              "</table>\n",
              "<p>16956 rows × 7 columns</p>\n",
              "</div>\n",
              "      <button class=\"colab-df-convert\" onclick=\"convertToInteractive('df-bcc174c7-8874-48c8-815b-c73bcec552b6')\"\n",
              "              title=\"Convert this dataframe to an interactive table.\"\n",
              "              style=\"display:none;\">\n",
              "        \n",
              "  <svg xmlns=\"http://www.w3.org/2000/svg\" height=\"24px\"viewBox=\"0 0 24 24\"\n",
              "       width=\"24px\">\n",
              "    <path d=\"M0 0h24v24H0V0z\" fill=\"none\"/>\n",
              "    <path d=\"M18.56 5.44l.94 2.06.94-2.06 2.06-.94-2.06-.94-.94-2.06-.94 2.06-2.06.94zm-11 1L8.5 8.5l.94-2.06 2.06-.94-2.06-.94L8.5 2.5l-.94 2.06-2.06.94zm10 10l.94 2.06.94-2.06 2.06-.94-2.06-.94-.94-2.06-.94 2.06-2.06.94z\"/><path d=\"M17.41 7.96l-1.37-1.37c-.4-.4-.92-.59-1.43-.59-.52 0-1.04.2-1.43.59L10.3 9.45l-7.72 7.72c-.78.78-.78 2.05 0 2.83L4 21.41c.39.39.9.59 1.41.59.51 0 1.02-.2 1.41-.59l7.78-7.78 2.81-2.81c.8-.78.8-2.07 0-2.86zM5.41 20L4 18.59l7.72-7.72 1.47 1.35L5.41 20z\"/>\n",
              "  </svg>\n",
              "      </button>\n",
              "      \n",
              "  <style>\n",
              "    .colab-df-container {\n",
              "      display:flex;\n",
              "      flex-wrap:wrap;\n",
              "      gap: 12px;\n",
              "    }\n",
              "\n",
              "    .colab-df-convert {\n",
              "      background-color: #E8F0FE;\n",
              "      border: none;\n",
              "      border-radius: 50%;\n",
              "      cursor: pointer;\n",
              "      display: none;\n",
              "      fill: #1967D2;\n",
              "      height: 32px;\n",
              "      padding: 0 0 0 0;\n",
              "      width: 32px;\n",
              "    }\n",
              "\n",
              "    .colab-df-convert:hover {\n",
              "      background-color: #E2EBFA;\n",
              "      box-shadow: 0px 1px 2px rgba(60, 64, 67, 0.3), 0px 1px 3px 1px rgba(60, 64, 67, 0.15);\n",
              "      fill: #174EA6;\n",
              "    }\n",
              "\n",
              "    [theme=dark] .colab-df-convert {\n",
              "      background-color: #3B4455;\n",
              "      fill: #D2E3FC;\n",
              "    }\n",
              "\n",
              "    [theme=dark] .colab-df-convert:hover {\n",
              "      background-color: #434B5C;\n",
              "      box-shadow: 0px 1px 3px 1px rgba(0, 0, 0, 0.15);\n",
              "      filter: drop-shadow(0px 1px 2px rgba(0, 0, 0, 0.3));\n",
              "      fill: #FFFFFF;\n",
              "    }\n",
              "  </style>\n",
              "\n",
              "      <script>\n",
              "        const buttonEl =\n",
              "          document.querySelector('#df-bcc174c7-8874-48c8-815b-c73bcec552b6 button.colab-df-convert');\n",
              "        buttonEl.style.display =\n",
              "          google.colab.kernel.accessAllowed ? 'block' : 'none';\n",
              "\n",
              "        async function convertToInteractive(key) {\n",
              "          const element = document.querySelector('#df-bcc174c7-8874-48c8-815b-c73bcec552b6');\n",
              "          const dataTable =\n",
              "            await google.colab.kernel.invokeFunction('convertToInteractive',\n",
              "                                                     [key], {});\n",
              "          if (!dataTable) return;\n",
              "\n",
              "          const docLinkHtml = 'Like what you see? Visit the ' +\n",
              "            '<a target=\"_blank\" href=https://colab.research.google.com/notebooks/data_table.ipynb>data table notebook</a>'\n",
              "            + ' to learn more about interactive tables.';\n",
              "          element.innerHTML = '';\n",
              "          dataTable['output_type'] = 'display_data';\n",
              "          await google.colab.output.renderOutput(dataTable, element);\n",
              "          const docLink = document.createElement('div');\n",
              "          docLink.innerHTML = docLinkHtml;\n",
              "          element.appendChild(docLink);\n",
              "        }\n",
              "      </script>\n",
              "    </div>\n",
              "  </div>\n",
              "  "
            ]
          },
          "metadata": {},
          "execution_count": 11
        }
      ],
      "source": [
        "job_descriptions_with_skills=pd.read_csv('/content/drive/MyDrive/Graduation_project/dataset/job_data_with_skills_v1.csv')\n",
        "job_descriptions_with_skills"
      ]
    },
    {
      "cell_type": "code",
      "source": [
        "category_it_job = job_descriptions_with_skills['Job_title'].value_counts().reset_index()\n",
        "category_it_job"
      ],
      "metadata": {
        "colab": {
          "base_uri": "https://localhost:8080/",
          "height": 478
        },
        "id": "NAFc1_mMvx6w",
        "outputId": "208116cd-ebe4-4469-ba65-2e3e8ea663ca"
      },
      "execution_count": null,
      "outputs": [
        {
          "output_type": "stream",
          "name": "stderr",
          "text": [
            "/usr/local/lib/python3.10/dist-packages/ipykernel/ipkernel.py:283: DeprecationWarning: `should_run_async` will not call `transform_cell` automatically in the future. Please pass the result to `transformed_cell` argument and any exception that happen during thetransform in `preprocessing_exc_tuple` in IPython 7.17 and above.\n",
            "  and should_run_async(code)\n"
          ]
        },
        {
          "output_type": "execute_result",
          "data": {
            "text/plain": [
              "                                      Job_title  count\n",
              "0                               Project Manager    519\n",
              "1                                  Data Analyst    418\n",
              "2                            Software Developer    140\n",
              "3                             Software Engineer    120\n",
              "4                    Embedded Software Engineer    120\n",
              "...                                         ...    ...\n",
              "10265           Senior Hardware Design Engineer      1\n",
              "10266       nd Line Engineer Rollout Deployment      1\n",
              "10267       Hydrogen Electrical Design Engineer      1\n",
              "10268  Process Safety Engineer Process Engineer      1\n",
              "10269                   Campus Security Manager      1\n",
              "\n",
              "[10270 rows x 2 columns]"
            ],
            "text/html": [
              "\n",
              "  <div id=\"df-2c045394-66a3-4304-97ff-0b65b9788e76\">\n",
              "    <div class=\"colab-df-container\">\n",
              "      <div>\n",
              "<style scoped>\n",
              "    .dataframe tbody tr th:only-of-type {\n",
              "        vertical-align: middle;\n",
              "    }\n",
              "\n",
              "    .dataframe tbody tr th {\n",
              "        vertical-align: top;\n",
              "    }\n",
              "\n",
              "    .dataframe thead th {\n",
              "        text-align: right;\n",
              "    }\n",
              "</style>\n",
              "<table border=\"1\" class=\"dataframe\">\n",
              "  <thead>\n",
              "    <tr style=\"text-align: right;\">\n",
              "      <th></th>\n",
              "      <th>Job_title</th>\n",
              "      <th>count</th>\n",
              "    </tr>\n",
              "  </thead>\n",
              "  <tbody>\n",
              "    <tr>\n",
              "      <th>0</th>\n",
              "      <td>Project Manager</td>\n",
              "      <td>519</td>\n",
              "    </tr>\n",
              "    <tr>\n",
              "      <th>1</th>\n",
              "      <td>Data Analyst</td>\n",
              "      <td>418</td>\n",
              "    </tr>\n",
              "    <tr>\n",
              "      <th>2</th>\n",
              "      <td>Software Developer</td>\n",
              "      <td>140</td>\n",
              "    </tr>\n",
              "    <tr>\n",
              "      <th>3</th>\n",
              "      <td>Software Engineer</td>\n",
              "      <td>120</td>\n",
              "    </tr>\n",
              "    <tr>\n",
              "      <th>4</th>\n",
              "      <td>Embedded Software Engineer</td>\n",
              "      <td>120</td>\n",
              "    </tr>\n",
              "    <tr>\n",
              "      <th>...</th>\n",
              "      <td>...</td>\n",
              "      <td>...</td>\n",
              "    </tr>\n",
              "    <tr>\n",
              "      <th>10265</th>\n",
              "      <td>Senior Hardware Design Engineer</td>\n",
              "      <td>1</td>\n",
              "    </tr>\n",
              "    <tr>\n",
              "      <th>10266</th>\n",
              "      <td>nd Line Engineer Rollout Deployment</td>\n",
              "      <td>1</td>\n",
              "    </tr>\n",
              "    <tr>\n",
              "      <th>10267</th>\n",
              "      <td>Hydrogen Electrical Design Engineer</td>\n",
              "      <td>1</td>\n",
              "    </tr>\n",
              "    <tr>\n",
              "      <th>10268</th>\n",
              "      <td>Process Safety Engineer Process Engineer</td>\n",
              "      <td>1</td>\n",
              "    </tr>\n",
              "    <tr>\n",
              "      <th>10269</th>\n",
              "      <td>Campus Security Manager</td>\n",
              "      <td>1</td>\n",
              "    </tr>\n",
              "  </tbody>\n",
              "</table>\n",
              "<p>10270 rows × 2 columns</p>\n",
              "</div>\n",
              "      <button class=\"colab-df-convert\" onclick=\"convertToInteractive('df-2c045394-66a3-4304-97ff-0b65b9788e76')\"\n",
              "              title=\"Convert this dataframe to an interactive table.\"\n",
              "              style=\"display:none;\">\n",
              "        \n",
              "  <svg xmlns=\"http://www.w3.org/2000/svg\" height=\"24px\"viewBox=\"0 0 24 24\"\n",
              "       width=\"24px\">\n",
              "    <path d=\"M0 0h24v24H0V0z\" fill=\"none\"/>\n",
              "    <path d=\"M18.56 5.44l.94 2.06.94-2.06 2.06-.94-2.06-.94-.94-2.06-.94 2.06-2.06.94zm-11 1L8.5 8.5l.94-2.06 2.06-.94-2.06-.94L8.5 2.5l-.94 2.06-2.06.94zm10 10l.94 2.06.94-2.06 2.06-.94-2.06-.94-.94-2.06-.94 2.06-2.06.94z\"/><path d=\"M17.41 7.96l-1.37-1.37c-.4-.4-.92-.59-1.43-.59-.52 0-1.04.2-1.43.59L10.3 9.45l-7.72 7.72c-.78.78-.78 2.05 0 2.83L4 21.41c.39.39.9.59 1.41.59.51 0 1.02-.2 1.41-.59l7.78-7.78 2.81-2.81c.8-.78.8-2.07 0-2.86zM5.41 20L4 18.59l7.72-7.72 1.47 1.35L5.41 20z\"/>\n",
              "  </svg>\n",
              "      </button>\n",
              "      \n",
              "  <style>\n",
              "    .colab-df-container {\n",
              "      display:flex;\n",
              "      flex-wrap:wrap;\n",
              "      gap: 12px;\n",
              "    }\n",
              "\n",
              "    .colab-df-convert {\n",
              "      background-color: #E8F0FE;\n",
              "      border: none;\n",
              "      border-radius: 50%;\n",
              "      cursor: pointer;\n",
              "      display: none;\n",
              "      fill: #1967D2;\n",
              "      height: 32px;\n",
              "      padding: 0 0 0 0;\n",
              "      width: 32px;\n",
              "    }\n",
              "\n",
              "    .colab-df-convert:hover {\n",
              "      background-color: #E2EBFA;\n",
              "      box-shadow: 0px 1px 2px rgba(60, 64, 67, 0.3), 0px 1px 3px 1px rgba(60, 64, 67, 0.15);\n",
              "      fill: #174EA6;\n",
              "    }\n",
              "\n",
              "    [theme=dark] .colab-df-convert {\n",
              "      background-color: #3B4455;\n",
              "      fill: #D2E3FC;\n",
              "    }\n",
              "\n",
              "    [theme=dark] .colab-df-convert:hover {\n",
              "      background-color: #434B5C;\n",
              "      box-shadow: 0px 1px 3px 1px rgba(0, 0, 0, 0.15);\n",
              "      filter: drop-shadow(0px 1px 2px rgba(0, 0, 0, 0.3));\n",
              "      fill: #FFFFFF;\n",
              "    }\n",
              "  </style>\n",
              "\n",
              "      <script>\n",
              "        const buttonEl =\n",
              "          document.querySelector('#df-2c045394-66a3-4304-97ff-0b65b9788e76 button.colab-df-convert');\n",
              "        buttonEl.style.display =\n",
              "          google.colab.kernel.accessAllowed ? 'block' : 'none';\n",
              "\n",
              "        async function convertToInteractive(key) {\n",
              "          const element = document.querySelector('#df-2c045394-66a3-4304-97ff-0b65b9788e76');\n",
              "          const dataTable =\n",
              "            await google.colab.kernel.invokeFunction('convertToInteractive',\n",
              "                                                     [key], {});\n",
              "          if (!dataTable) return;\n",
              "\n",
              "          const docLinkHtml = 'Like what you see? Visit the ' +\n",
              "            '<a target=\"_blank\" href=https://colab.research.google.com/notebooks/data_table.ipynb>data table notebook</a>'\n",
              "            + ' to learn more about interactive tables.';\n",
              "          element.innerHTML = '';\n",
              "          dataTable['output_type'] = 'display_data';\n",
              "          await google.colab.output.renderOutput(dataTable, element);\n",
              "          const docLink = document.createElement('div');\n",
              "          docLink.innerHTML = docLinkHtml;\n",
              "          element.appendChild(docLink);\n",
              "        }\n",
              "      </script>\n",
              "    </div>\n",
              "  </div>\n",
              "  "
            ]
          },
          "metadata": {},
          "execution_count": 89
        }
      ]
    },
    {
      "cell_type": "code",
      "source": [
        "plt.figure(figsize=(12,8))\n",
        "sns.barplot(x=category_it_job['count'][:25], y=category_it_job['Job_title'][:25], palette='cool')\n",
        "plt.show()"
      ],
      "metadata": {
        "colab": {
          "base_uri": "https://localhost:8080/",
          "height": 751
        },
        "id": "5S8mlIQfv-oY",
        "outputId": "169bfba0-e367-4e48-b6bf-5d3d2a556dc4"
      },
      "execution_count": null,
      "outputs": [
        {
          "output_type": "stream",
          "name": "stderr",
          "text": [
            "/usr/local/lib/python3.10/dist-packages/ipykernel/ipkernel.py:283: DeprecationWarning: `should_run_async` will not call `transform_cell` automatically in the future. Please pass the result to `transformed_cell` argument and any exception that happen during thetransform in `preprocessing_exc_tuple` in IPython 7.17 and above.\n",
            "  and should_run_async(code)\n"
          ]
        },
        {
          "output_type": "display_data",
          "data": {
            "text/plain": [
              "<Figure size 1200x800 with 1 Axes>"
            ],
            "image/png": "[encoded data removed]"
          },
          "metadata": {}
        }
      ]
    },
    {
      "cell_type": "code",
      "execution_count": null,
      "metadata": {
        "colab": {
          "base_uri": "https://localhost:8080/",
          "height": 423
        },
        "id": "nmRUsEW8PlTu",
        "outputId": "8b5b4f97-7584-48c0-cf6b-2fba92e0b490"
      },
      "outputs": [
        {
          "output_type": "execute_result",
          "data": {
            "text/plain": [
              "         Category                                             Resume\n",
              "0    Data Science  Skills * Programming Languages: Python (pandas...\n",
              "1    Data Science  Education Details \\r\\nMay 2013 to May 2017 B.E...\n",
              "2    Data Science  Areas of Interest Deep Learning, Control Syste...\n",
              "3    Data Science  Skills â¢ R â¢ Python â¢ SAP HANA â¢ Table...\n",
              "4    Data Science  Education Details \\r\\n MCA   YMCAUST,  Faridab...\n",
              "..            ...                                                ...\n",
              "957       Testing  Computer Skills: â¢ Proficient in MS office (...\n",
              "958       Testing  â Willingness to accept the challenges. â ...\n",
              "959       Testing  PERSONAL SKILLS â¢ Quick learner, â¢ Eagerne...\n",
              "960       Testing  COMPUTER SKILLS & SOFTWARE KNOWLEDGE MS-Power ...\n",
              "961       Testing  Skill Set OS Windows XP/7/8/8.1/10 Database MY...\n",
              "\n",
              "[962 rows x 2 columns]"
            ],
            "text/html": [
              "\n",
              "  <div id=\"df-275e3e18-ccb1-4a6e-b71a-3aff21f6175b\">\n",
              "    <div class=\"colab-df-container\">\n",
              "      <div>\n",
              "<style scoped>\n",
              "    .dataframe tbody tr th:only-of-type {\n",
              "        vertical-align: middle;\n",
              "    }\n",
              "\n",
              "    .dataframe tbody tr th {\n",
              "        vertical-align: top;\n",
              "    }\n",
              "\n",
              "    .dataframe thead th {\n",
              "        text-align: right;\n",
              "    }\n",
              "</style>\n",
              "<table border=\"1\" class=\"dataframe\">\n",
              "  <thead>\n",
              "    <tr style=\"text-align: right;\">\n",
              "      <th></th>\n",
              "      <th>Category</th>\n",
              "      <th>Resume</th>\n",
              "    </tr>\n",
              "  </thead>\n",
              "  <tbody>\n",
              "    <tr>\n",
              "      <th>0</th>\n",
              "      <td>Data Science</td>\n",
              "      <td>Skills * Programming Languages: Python (pandas...</td>\n",
              "    </tr>\n",
              "    <tr>\n",
              "      <th>1</th>\n",
              "      <td>Data Science</td>\n",
              "      <td>Education Details \\r\\nMay 2013 to May 2017 B.E...</td>\n",
              "    </tr>\n",
              "    <tr>\n",
              "      <th>2</th>\n",
              "      <td>Data Science</td>\n",
              "      <td>Areas of Interest Deep Learning, Control Syste...</td>\n",
              "    </tr>\n",
              "    <tr>\n",
              "      <th>3</th>\n",
              "      <td>Data Science</td>\n",
              "      <td>Skills â¢ R â¢ Python â¢ SAP HANA â¢ Table...</td>\n",
              "    </tr>\n",
              "    <tr>\n",
              "      <th>4</th>\n",
              "      <td>Data Science</td>\n",
              "      <td>Education Details \\r\\n MCA   YMCAUST,  Faridab...</td>\n",
              "    </tr>\n",
              "    <tr>\n",
              "      <th>...</th>\n",
              "      <td>...</td>\n",
              "      <td>...</td>\n",
              "    </tr>\n",
              "    <tr>\n",
              "      <th>957</th>\n",
              "      <td>Testing</td>\n",
              "      <td>Computer Skills: â¢ Proficient in MS office (...</td>\n",
              "    </tr>\n",
              "    <tr>\n",
              "      <th>958</th>\n",
              "      <td>Testing</td>\n",
              "      <td>â Willingness to accept the challenges. â ...</td>\n",
              "    </tr>\n",
              "    <tr>\n",
              "      <th>959</th>\n",
              "      <td>Testing</td>\n",
              "      <td>PERSONAL SKILLS â¢ Quick learner, â¢ Eagerne...</td>\n",
              "    </tr>\n",
              "    <tr>\n",
              "      <th>960</th>\n",
              "      <td>Testing</td>\n",
              "      <td>COMPUTER SKILLS &amp; SOFTWARE KNOWLEDGE MS-Power ...</td>\n",
              "    </tr>\n",
              "    <tr>\n",
              "      <th>961</th>\n",
              "      <td>Testing</td>\n",
              "      <td>Skill Set OS Windows XP/7/8/8.1/10 Database MY...</td>\n",
              "    </tr>\n",
              "  </tbody>\n",
              "</table>\n",
              "<p>962 rows × 2 columns</p>\n",
              "</div>\n",
              "      <button class=\"colab-df-convert\" onclick=\"convertToInteractive('df-275e3e18-ccb1-4a6e-b71a-3aff21f6175b')\"\n",
              "              title=\"Convert this dataframe to an interactive table.\"\n",
              "              style=\"display:none;\">\n",
              "        \n",
              "  <svg xmlns=\"http://www.w3.org/2000/svg\" height=\"24px\"viewBox=\"0 0 24 24\"\n",
              "       width=\"24px\">\n",
              "    <path d=\"M0 0h24v24H0V0z\" fill=\"none\"/>\n",
              "    <path d=\"M18.56 5.44l.94 2.06.94-2.06 2.06-.94-2.06-.94-.94-2.06-.94 2.06-2.06.94zm-11 1L8.5 8.5l.94-2.06 2.06-.94-2.06-.94L8.5 2.5l-.94 2.06-2.06.94zm10 10l.94 2.06.94-2.06 2.06-.94-2.06-.94-.94-2.06-.94 2.06-2.06.94z\"/><path d=\"M17.41 7.96l-1.37-1.37c-.4-.4-.92-.59-1.43-.59-.52 0-1.04.2-1.43.59L10.3 9.45l-7.72 7.72c-.78.78-.78 2.05 0 2.83L4 21.41c.39.39.9.59 1.41.59.51 0 1.02-.2 1.41-.59l7.78-7.78 2.81-2.81c.8-.78.8-2.07 0-2.86zM5.41 20L4 18.59l7.72-7.72 1.47 1.35L5.41 20z\"/>\n",
              "  </svg>\n",
              "      </button>\n",
              "      \n",
              "  <style>\n",
              "    .colab-df-container {\n",
              "      display:flex;\n",
              "      flex-wrap:wrap;\n",
              "      gap: 12px;\n",
              "    }\n",
              "\n",
              "    .colab-df-convert {\n",
              "      background-color: #E8F0FE;\n",
              "      border: none;\n",
              "      border-radius: 50%;\n",
              "      cursor: pointer;\n",
              "      display: none;\n",
              "      fill: #1967D2;\n",
              "      height: 32px;\n",
              "      padding: 0 0 0 0;\n",
              "      width: 32px;\n",
              "    }\n",
              "\n",
              "    .colab-df-convert:hover {\n",
              "      background-color: #E2EBFA;\n",
              "      box-shadow: 0px 1px 2px rgba(60, 64, 67, 0.3), 0px 1px 3px 1px rgba(60, 64, 67, 0.15);\n",
              "      fill: #174EA6;\n",
              "    }\n",
              "\n",
              "    [theme=dark] .colab-df-convert {\n",
              "      background-color: #3B4455;\n",
              "      fill: #D2E3FC;\n",
              "    }\n",
              "\n",
              "    [theme=dark] .colab-df-convert:hover {\n",
              "      background-color: #434B5C;\n",
              "      box-shadow: 0px 1px 3px 1px rgba(0, 0, 0, 0.15);\n",
              "      filter: drop-shadow(0px 1px 2px rgba(0, 0, 0, 0.3));\n",
              "      fill: #FFFFFF;\n",
              "    }\n",
              "  </style>\n",
              "\n",
              "      <script>\n",
              "        const buttonEl =\n",
              "          document.querySelector('#df-275e3e18-ccb1-4a6e-b71a-3aff21f6175b button.colab-df-convert');\n",
              "        buttonEl.style.display =\n",
              "          google.colab.kernel.accessAllowed ? 'block' : 'none';\n",
              "\n",
              "        async function convertToInteractive(key) {\n",
              "          const element = document.querySelector('#df-275e3e18-ccb1-4a6e-b71a-3aff21f6175b');\n",
              "          const dataTable =\n",
              "            await google.colab.kernel.invokeFunction('convertToInteractive',\n",
              "                                                     [key], {});\n",
              "          if (!dataTable) return;\n",
              "\n",
              "          const docLinkHtml = 'Like what you see? Visit the ' +\n",
              "            '<a target=\"_blank\" href=https://colab.research.google.com/notebooks/data_table.ipynb>data table notebook</a>'\n",
              "            + ' to learn more about interactive tables.';\n",
              "          element.innerHTML = '';\n",
              "          dataTable['output_type'] = 'display_data';\n",
              "          await google.colab.output.renderOutput(dataTable, element);\n",
              "          const docLink = document.createElement('div');\n",
              "          docLink.innerHTML = docLinkHtml;\n",
              "          element.appendChild(docLink);\n",
              "        }\n",
              "      </script>\n",
              "    </div>\n",
              "  </div>\n",
              "  "
            ]
          },
          "metadata": {},
          "execution_count": 12
        }
      ],
      "source": [
        "cv_data=pd.read_csv(\"/content/UpdatedResumeDataSet.csv\")\n",
        "cv_data"
      ]
    },
    {
      "cell_type": "code",
      "source": [
        "def data_preprocessing(text):\n",
        "\n",
        "      # Remove email addresses\n",
        "    text = re.sub(r'\\S+@\\S+', '', text)\n",
        "\n",
        "    # Remove links\n",
        "    text = re.sub(r'http\\S+', '', text)\n",
        "    # Remove punctuation\n",
        "    text = text.translate(str.maketrans(\"\", \"\", string.punctuation))\n",
        "    # Convert to lowercase\n",
        "    text = text.lower()\n",
        "\n",
        "    # Remove digits\n",
        "    text = ''.join([\" \" if ord(i) < 32 or ord(i) > 126 else i for i in text])\n",
        "    text = ''.join([i for i in text if not i.isdigit()])\n",
        "\n",
        "    # Remove stop words\n",
        "    stop_words = set(stopwords.words('english'))\n",
        "    text = ' '.join([word for word in text.split() if word not in stop_words])\n",
        "\n",
        "    return text"
      ],
      "metadata": {
        "id": "qlEsdAUzmnpR"
      },
      "execution_count": null,
      "outputs": []
    },
    {
      "cell_type": "code",
      "execution_count": null,
      "metadata": {
        "id": "gCW4Ouh6xBBH"
      },
      "outputs": [],
      "source": [
        "cv_data['Resume']=cv_data['Resume'].apply(data_preprocessing)"
      ]
    },
    {
      "cell_type": "code",
      "execution_count": null,
      "metadata": {
        "id": "KCZrhgQSW9f7"
      },
      "outputs": [],
      "source": [
        "job_descriptions_with_skills['combined'] = job_descriptions_with_skills.apply(lambda row: ast.literal_eval(row['skills']) + ast.literal_eval(row['way_2_skills']), axis=1)\n"
      ]
    },
    {
      "cell_type": "markdown",
      "source": [
        "# **extract skills**"
      ],
      "metadata": {
        "id": "KTjLvBCuXbCQ"
      }
    },
    {
      "cell_type": "code",
      "source": [
        "# Drop rows where the 'combined' column contains NaN or empty lists\n",
        "job_descriptions_with_skills = job_descriptions_with_skills.dropna(subset=['combined'])\n",
        "job_descriptions_with_skills = job_descriptions_with_skills[job_descriptions_with_skills['combined'].apply(len) > 0]\n",
        "job_descriptions_with_skills= job_descriptions_with_skills.reset_index(drop=True)"
      ],
      "metadata": {
        "id": "fW3WtXAiSD3S"
      },
      "execution_count": null,
      "outputs": []
    },
    {
      "cell_type": "code",
      "source": [
        "def extract_skills_2(text):\n",
        "      # Create a new Word document\n",
        "      doc = Document()\n",
        "      # Add text to the document\n",
        "      doc.add_paragraph(text)\n",
        "      doc.save(\"text.docx\")\n",
        "      data = ResumeParser('text.docx').get_extracted_data()\n",
        "      skills = data.get('skills', [])\n",
        "      return skills\n",
        "\n",
        "    # tagged_data.append(TaggedDocument(words=cv_skill['skills'], tags=[str()]))"
      ],
      "metadata": {
        "id": "3gFBA7wKIh_u"
      },
      "execution_count": null,
      "outputs": []
    },
    {
      "cell_type": "code",
      "execution_count": null,
      "metadata": {
        "colab": {
          "base_uri": "https://localhost:8080/"
        },
        "id": "dERqFjON-Hz1",
        "outputId": "de509bd8-833f-46f0-d4c5-caaf8bfb5bb5"
      },
      "outputs": [
        {
          "output_type": "stream",
          "name": "stdout",
          "text": [
            "Resume Text: We looking fantastic QC Engineer join fast growing team You work closely development teams help discover debug issues ensuring end users bug free experience What Create test automation frameworks write test code run code reviews automation engineers Analyze user stories requirements validity feasibility Design execute manual automated tests web mobile applications REST APIs WebSockets Implement execute performance tests Who Have years experience BS Computer Science related technical field equivalent practical experience Have solid knowledge testing concepts techniques Have good analytical communication skills Have hands Experience Java Javascript Hands experience API Testing Automation Postman Rest Assured Hands experience Performance Testing least one following JMeter k Artillery Locust Familiar UI Automation using Selenium Cypress Good Understanding Mobile Appium\n",
            "Skills: ['end users', 'API Testing Automation Postman Rest Assured Hands experience', 'JMeter k Artillery Locust Familiar UI Automation', 'automated', 'work', 'user', 'issues', 'analyze', 'bug free experience', 'code reviews automation engineers', 'experience', 'design', 'teams', 'Create test automation frameworks', 'fast', 'rest', 'fantastic QC Engineer', 'testing', 'years experience', 'users', 'validity', 'help', 'test code', 'What', 'solid knowledge testing concepts techniques', 'ensuring', 'Analyze', 'development teams', 'Performance Testing', 'create', 'validity feasibility', 'BS Computer Science', 'requirements', 'write', 'hands Experience Java Javascript Hands', 'bug', 'Selenium Cypress Good Understanding Mobile Appium', 'reviews', 'closely', 'hands', 'qc', 'technical field equivalent practical experience', 'tests', 'We', 'debug', 'performance tests', 'mobile', 'You', 'manual automated tests web mobile applications', 'Design', 'good', 'code', 'engineer', 'debug issues', 'looking', 'automation', 'applications', 'Who', 'fast growing team', 'discover', 'join', 'stories', 'growing', 'frameworks', 'free', 'test', 'feasibility', 'team', 'performance', 'run', 'manual', 'fantastic', 'execute', 'engineers', 'development', 'end', 'good analytical communication skills', 'web']\n",
            "Skills len: 78\n"
          ]
        }
      ],
      "source": [
        "# Load pre-trained models and libraries\n",
        "spacy_model = spacy.load('en_core_web_sm')\n",
        "nltk_stopwords = set(stopwords.words('english'))\n",
        "\n",
        "# Define function to extract skills from a resume using multiple models and libraries\n",
        "def extract_skills_1(resume_text):\n",
        "\n",
        "    # Use spaCy to extract noun chunks from resume text\n",
        "    spacy_noun_chunks = [chunk.text for chunk in spacy_model(resume_text).noun_chunks]\n",
        "\n",
        "    doc = spacy_model(resume_text)\n",
        "    spacy_skills = [ent.text for ent in doc.ents if ent.label_ == 'ORG']\n",
        "\n",
        "\n",
        "    # Use NLTK to extract keywords and phrases from resume text\n",
        "    nltk_tokens = word_tokenize(resume_text)\n",
        "\n",
        "    # Extract keywords and phrases\n",
        "    nltk_filtered_tokens = (token.lower() for token in nltk_tokens if token.lower() not in nltk_stopwords)\n",
        "    nltk_keywords = nltk.FreqDist(nltk_filtered_tokens).most_common(50)\n",
        "    nltk_bigram_measures = BigramAssocMeasures()\n",
        "    nltk_finder = BigramCollocationFinder.from_words(nltk_filtered_tokens)\n",
        "    nltk_finder.apply_freq_filter(1)\n",
        "    nltk_phrases = nltk_finder.nbest(nltk_bigram_measures.raw_freq, 50)\n",
        "\n",
        "    nltk_skills = list(set([keyword for keyword, freq in nltk_keywords] + [' '.join(phrase) for phrase in nltk_phrases]))\n",
        "    # Combine all extracted skills into a single list and remove duplicates\n",
        "    skills = list(set( spacy_noun_chunks + spacy_skills + nltk_skills))\n",
        "     # Filter skills based on the provided list of technical skills\n",
        "    # import_skills = list(set([skill.lower() for skill in skills]) & set(technical_skills['name'].str.lower()))\n",
        "    return skills #,skills\n",
        "\n",
        "# Example usage: extract skills from a single resume\n",
        "resume_text = job_descriptions_with_skills['Job_description'][200]\n",
        "skills = extract_skills_1(resume_text)\n",
        "print('Resume Text:', resume_text)\n",
        "print('Skills:', skills)\n",
        "# print('extra_Skills:', extra)\n",
        "print('Skills len:', len(skills))\n",
        "# print(job_data['Job_title'][100])"
      ]
    },
    {
      "cell_type": "code",
      "execution_count": null,
      "metadata": {
        "colab": {
          "base_uri": "https://localhost:8080/",
          "height": 658
        },
        "id": "hmPWAefZRQSH",
        "outputId": "98a3a3fb-d366-4662-8cf9-6fa7a627ab8c"
      },
      "outputs": [
        {
          "output_type": "execute_result",
          "data": {
            "text/plain": [
              "                                               Job_title  \\\n",
              "0                                        DevOps Engineer   \n",
              "1                                        DevOps Engineer   \n",
              "2                                        DevOps Engineer   \n",
              "3                          Cloud Infrastructure Engineer   \n",
              "4                                        DevOps Engineer   \n",
              "...                                                  ...   \n",
              "16949                  Real Estate Development Executive   \n",
              "16950  Protective Services Specialist Executive Prote...   \n",
              "16951                            Campus Security Manager   \n",
              "16952                                 Facilities Manager   \n",
              "16953                          Physical Security Manager   \n",
              "\n",
              "                                                Job_link  \\\n",
              "0      https://eg.linkedin.com/jobs/view/devops-engin...   \n",
              "1      https://eg.linkedin.com/jobs/view/devops-engin...   \n",
              "2      https://eg.linkedin.com/jobs/view/devops-engin...   \n",
              "3      https://eg.linkedin.com/jobs/view/cloud-infras...   \n",
              "4      https://eg.linkedin.com/jobs/view/devops-engin...   \n",
              "...                                                  ...   \n",
              "16949                                                NaN   \n",
              "16950                                                NaN   \n",
              "16951                                                NaN   \n",
              "16952                                                NaN   \n",
              "16953                                                NaN   \n",
              "\n",
              "                                         Job_description            Keyword  \\\n",
              "0      We looking DevOps Engineer join team develop s...        scrab_ddata   \n",
              "1      Who We Are We owned funded one Egypt renowned ...        scrab_ddata   \n",
              "2      Wind IS Company Oracle Partner Egypt KSA UAE h...        scrab_ddata   \n",
              "3      Who We Are We owned funded one Egypt renowned ...        scrab_ddata   \n",
              "4      About Axis We believe financial services acces...        scrab_ddata   \n",
              "...                                                  ...                ...   \n",
              "16949  Manage strategy execution innovation delivery ...  google_job_skills   \n",
              "16950  Plan implement large scale security operations...  google_job_skills   \n",
              "16951  Manage daily operations security vendors provi...  google_job_skills   \n",
              "16952  Collaborate functional teams plan manage deliv...  google_job_skills   \n",
              "16953  Partner closely offer guidance consultation Fa...  google_job_skills   \n",
              "\n",
              "                                                  skills  \\\n",
              "0      ['engineer', 'unwanted traffic', 'infrastructu...   \n",
              "1      ['perspectives', 'strong focus scalability sec...   \n",
              "2      ['development', 'engineer', 'Job Requirements ...   \n",
              "3      ['related', 'perspectives', 'big stay', 'suit'...   \n",
              "4      ['Jenkins CD Bambop CircleCI Git Action Gitlab...   \n",
              "...                                                  ...   \n",
              "16949  ['development', 'team', 'Land Use Process requ...   \n",
              "16950  ['Google events', 'event', 'equivalent practic...   \n",
              "16951  ['Familiarity Google', 'security safety vendor...   \n",
              "16952  ['vendor', 'health', 'multiple requests work f...   \n",
              "16953  ['Facility Operations Management', 'offer', 'P...   \n",
              "\n",
              "                                            way_2_skills  \\\n",
              "0      ['System', 'Analyze', 'Policies', 'Debugging',...   \n",
              "1      ['Technical', 'Linux', 'Workflow', 'Lifecycle'...   \n",
              "2      ['System', 'Website', 'Design', 'Engineering',...   \n",
              "3      ['Hardware', 'Dhcp', 'Linux', 'Cloud', 'Vmware...   \n",
              "4      ['Automation', 'Ansible', 'Docker', 'Security'...   \n",
              "...                                                  ...   \n",
              "16949  ['Schedule', 'Design', 'Engineering', 'Reports...   \n",
              "16950  ['Policies', 'Reports', 'Process', 'Research',...   \n",
              "16951  ['System', 'Compliance', 'Policies', 'Improvem...   \n",
              "16952  ['Security', 'Purchasing', 'Budget', 'Construc...   \n",
              "16953  ['Policies', 'Emea', 'Training', 'Protocols', ...   \n",
              "\n",
              "                                                combined  \n",
              "0      [engineer, unwanted traffic, infrastructure vu...  \n",
              "1      [perspectives, strong focus scalability securi...  \n",
              "2      [development, engineer, Job Requirements BSc, ...  \n",
              "3      [related, perspectives, big stay, suit, profes...  \n",
              "4      [Jenkins CD Bambop CircleCI Git Action Gitlab ...  \n",
              "...                                                  ...  \n",
              "16949  [development, team, Land Use Process requireme...  \n",
              "16950  [Google events, event, equivalent practical ex...  \n",
              "16951  [Familiarity Google, security safety vendors, ...  \n",
              "16952  [vendor, health, multiple requests work fast p...  \n",
              "16953  [Facility Operations Management, offer, Partne...  \n",
              "\n",
              "[16954 rows x 7 columns]"
            ],
            "text/html": [
              "\n",
              "  <div id=\"df-8c4aeea4-4ae3-4fef-8f15-9a7d46db5fbc\">\n",
              "    <div class=\"colab-df-container\">\n",
              "      <div>\n",
              "<style scoped>\n",
              "    .dataframe tbody tr th:only-of-type {\n",
              "        vertical-align: middle;\n",
              "    }\n",
              "\n",
              "    .dataframe tbody tr th {\n",
              "        vertical-align: top;\n",
              "    }\n",
              "\n",
              "    .dataframe thead th {\n",
              "        text-align: right;\n",
              "    }\n",
              "</style>\n",
              "<table border=\"1\" class=\"dataframe\">\n",
              "  <thead>\n",
              "    <tr style=\"text-align: right;\">\n",
              "      <th></th>\n",
              "      <th>Job_title</th>\n",
              "      <th>Job_link</th>\n",
              "      <th>Job_description</th>\n",
              "      <th>Keyword</th>\n",
              "      <th>skills</th>\n",
              "      <th>way_2_skills</th>\n",
              "      <th>combined</th>\n",
              "    </tr>\n",
              "  </thead>\n",
              "  <tbody>\n",
              "    <tr>\n",
              "      <th>0</th>\n",
              "      <td>DevOps Engineer</td>\n",
              "      <td>https://eg.linkedin.com/jobs/view/devops-engin...</td>\n",
              "      <td>We looking DevOps Engineer join team develop s...</td>\n",
              "      <td>scrab_ddata</td>\n",
              "      <td>['engineer', 'unwanted traffic', 'infrastructu...</td>\n",
              "      <td>['System', 'Analyze', 'Policies', 'Debugging',...</td>\n",
              "      <td>[engineer, unwanted traffic, infrastructure vu...</td>\n",
              "    </tr>\n",
              "    <tr>\n",
              "      <th>1</th>\n",
              "      <td>DevOps Engineer</td>\n",
              "      <td>https://eg.linkedin.com/jobs/view/devops-engin...</td>\n",
              "      <td>Who We Are We owned funded one Egypt renowned ...</td>\n",
              "      <td>scrab_ddata</td>\n",
              "      <td>['perspectives', 'strong focus scalability sec...</td>\n",
              "      <td>['Technical', 'Linux', 'Workflow', 'Lifecycle'...</td>\n",
              "      <td>[perspectives, strong focus scalability securi...</td>\n",
              "    </tr>\n",
              "    <tr>\n",
              "      <th>2</th>\n",
              "      <td>DevOps Engineer</td>\n",
              "      <td>https://eg.linkedin.com/jobs/view/devops-engin...</td>\n",
              "      <td>Wind IS Company Oracle Partner Egypt KSA UAE h...</td>\n",
              "      <td>scrab_ddata</td>\n",
              "      <td>['development', 'engineer', 'Job Requirements ...</td>\n",
              "      <td>['System', 'Website', 'Design', 'Engineering',...</td>\n",
              "      <td>[development, engineer, Job Requirements BSc, ...</td>\n",
              "    </tr>\n",
              "    <tr>\n",
              "      <th>3</th>\n",
              "      <td>Cloud Infrastructure Engineer</td>\n",
              "      <td>https://eg.linkedin.com/jobs/view/cloud-infras...</td>\n",
              "      <td>Who We Are We owned funded one Egypt renowned ...</td>\n",
              "      <td>scrab_ddata</td>\n",
              "      <td>['related', 'perspectives', 'big stay', 'suit'...</td>\n",
              "      <td>['Hardware', 'Dhcp', 'Linux', 'Cloud', 'Vmware...</td>\n",
              "      <td>[related, perspectives, big stay, suit, profes...</td>\n",
              "    </tr>\n",
              "    <tr>\n",
              "      <th>4</th>\n",
              "      <td>DevOps Engineer</td>\n",
              "      <td>https://eg.linkedin.com/jobs/view/devops-engin...</td>\n",
              "      <td>About Axis We believe financial services acces...</td>\n",
              "      <td>scrab_ddata</td>\n",
              "      <td>['Jenkins CD Bambop CircleCI Git Action Gitlab...</td>\n",
              "      <td>['Automation', 'Ansible', 'Docker', 'Security'...</td>\n",
              "      <td>[Jenkins CD Bambop CircleCI Git Action Gitlab ...</td>\n",
              "    </tr>\n",
              "    <tr>\n",
              "      <th>...</th>\n",
              "      <td>...</td>\n",
              "      <td>...</td>\n",
              "      <td>...</td>\n",
              "      <td>...</td>\n",
              "      <td>...</td>\n",
              "      <td>...</td>\n",
              "      <td>...</td>\n",
              "    </tr>\n",
              "    <tr>\n",
              "      <th>16949</th>\n",
              "      <td>Real Estate Development Executive</td>\n",
              "      <td>NaN</td>\n",
              "      <td>Manage strategy execution innovation delivery ...</td>\n",
              "      <td>google_job_skills</td>\n",
              "      <td>['development', 'team', 'Land Use Process requ...</td>\n",
              "      <td>['Schedule', 'Design', 'Engineering', 'Reports...</td>\n",
              "      <td>[development, team, Land Use Process requireme...</td>\n",
              "    </tr>\n",
              "    <tr>\n",
              "      <th>16950</th>\n",
              "      <td>Protective Services Specialist Executive Prote...</td>\n",
              "      <td>NaN</td>\n",
              "      <td>Plan implement large scale security operations...</td>\n",
              "      <td>google_job_skills</td>\n",
              "      <td>['Google events', 'event', 'equivalent practic...</td>\n",
              "      <td>['Policies', 'Reports', 'Process', 'Research',...</td>\n",
              "      <td>[Google events, event, equivalent practical ex...</td>\n",
              "    </tr>\n",
              "    <tr>\n",
              "      <th>16951</th>\n",
              "      <td>Campus Security Manager</td>\n",
              "      <td>NaN</td>\n",
              "      <td>Manage daily operations security vendors provi...</td>\n",
              "      <td>google_job_skills</td>\n",
              "      <td>['Familiarity Google', 'security safety vendor...</td>\n",
              "      <td>['System', 'Compliance', 'Policies', 'Improvem...</td>\n",
              "      <td>[Familiarity Google, security safety vendors, ...</td>\n",
              "    </tr>\n",
              "    <tr>\n",
              "      <th>16952</th>\n",
              "      <td>Facilities Manager</td>\n",
              "      <td>NaN</td>\n",
              "      <td>Collaborate functional teams plan manage deliv...</td>\n",
              "      <td>google_job_skills</td>\n",
              "      <td>['vendor', 'health', 'multiple requests work f...</td>\n",
              "      <td>['Security', 'Purchasing', 'Budget', 'Construc...</td>\n",
              "      <td>[vendor, health, multiple requests work fast p...</td>\n",
              "    </tr>\n",
              "    <tr>\n",
              "      <th>16953</th>\n",
              "      <td>Physical Security Manager</td>\n",
              "      <td>NaN</td>\n",
              "      <td>Partner closely offer guidance consultation Fa...</td>\n",
              "      <td>google_job_skills</td>\n",
              "      <td>['Facility Operations Management', 'offer', 'P...</td>\n",
              "      <td>['Policies', 'Emea', 'Training', 'Protocols', ...</td>\n",
              "      <td>[Facility Operations Management, offer, Partne...</td>\n",
              "    </tr>\n",
              "  </tbody>\n",
              "</table>\n",
              "<p>16954 rows × 7 columns</p>\n",
              "</div>\n",
              "      <button class=\"colab-df-convert\" onclick=\"convertToInteractive('df-8c4aeea4-4ae3-4fef-8f15-9a7d46db5fbc')\"\n",
              "              title=\"Convert this dataframe to an interactive table.\"\n",
              "              style=\"display:none;\">\n",
              "        \n",
              "  <svg xmlns=\"http://www.w3.org/2000/svg\" height=\"24px\"viewBox=\"0 0 24 24\"\n",
              "       width=\"24px\">\n",
              "    <path d=\"M0 0h24v24H0V0z\" fill=\"none\"/>\n",
              "    <path d=\"M18.56 5.44l.94 2.06.94-2.06 2.06-.94-2.06-.94-.94-2.06-.94 2.06-2.06.94zm-11 1L8.5 8.5l.94-2.06 2.06-.94-2.06-.94L8.5 2.5l-.94 2.06-2.06.94zm10 10l.94 2.06.94-2.06 2.06-.94-2.06-.94-.94-2.06-.94 2.06-2.06.94z\"/><path d=\"M17.41 7.96l-1.37-1.37c-.4-.4-.92-.59-1.43-.59-.52 0-1.04.2-1.43.59L10.3 9.45l-7.72 7.72c-.78.78-.78 2.05 0 2.83L4 21.41c.39.39.9.59 1.41.59.51 0 1.02-.2 1.41-.59l7.78-7.78 2.81-2.81c.8-.78.8-2.07 0-2.86zM5.41 20L4 18.59l7.72-7.72 1.47 1.35L5.41 20z\"/>\n",
              "  </svg>\n",
              "      </button>\n",
              "      \n",
              "  <style>\n",
              "    .colab-df-container {\n",
              "      display:flex;\n",
              "      flex-wrap:wrap;\n",
              "      gap: 12px;\n",
              "    }\n",
              "\n",
              "    .colab-df-convert {\n",
              "      background-color: #E8F0FE;\n",
              "      border: none;\n",
              "      border-radius: 50%;\n",
              "      cursor: pointer;\n",
              "      display: none;\n",
              "      fill: #1967D2;\n",
              "      height: 32px;\n",
              "      padding: 0 0 0 0;\n",
              "      width: 32px;\n",
              "    }\n",
              "\n",
              "    .colab-df-convert:hover {\n",
              "      background-color: #E2EBFA;\n",
              "      box-shadow: 0px 1px 2px rgba(60, 64, 67, 0.3), 0px 1px 3px 1px rgba(60, 64, 67, 0.15);\n",
              "      fill: #174EA6;\n",
              "    }\n",
              "\n",
              "    [theme=dark] .colab-df-convert {\n",
              "      background-color: #3B4455;\n",
              "      fill: #D2E3FC;\n",
              "    }\n",
              "\n",
              "    [theme=dark] .colab-df-convert:hover {\n",
              "      background-color: #434B5C;\n",
              "      box-shadow: 0px 1px 3px 1px rgba(0, 0, 0, 0.15);\n",
              "      filter: drop-shadow(0px 1px 2px rgba(0, 0, 0, 0.3));\n",
              "      fill: #FFFFFF;\n",
              "    }\n",
              "  </style>\n",
              "\n",
              "      <script>\n",
              "        const buttonEl =\n",
              "          document.querySelector('#df-8c4aeea4-4ae3-4fef-8f15-9a7d46db5fbc button.colab-df-convert');\n",
              "        buttonEl.style.display =\n",
              "          google.colab.kernel.accessAllowed ? 'block' : 'none';\n",
              "\n",
              "        async function convertToInteractive(key) {\n",
              "          const element = document.querySelector('#df-8c4aeea4-4ae3-4fef-8f15-9a7d46db5fbc');\n",
              "          const dataTable =\n",
              "            await google.colab.kernel.invokeFunction('convertToInteractive',\n",
              "                                                     [key], {});\n",
              "          if (!dataTable) return;\n",
              "\n",
              "          const docLinkHtml = 'Like what you see? Visit the ' +\n",
              "            '<a target=\"_blank\" href=https://colab.research.google.com/notebooks/data_table.ipynb>data table notebook</a>'\n",
              "            + ' to learn more about interactive tables.';\n",
              "          element.innerHTML = '';\n",
              "          dataTable['output_type'] = 'display_data';\n",
              "          await google.colab.output.renderOutput(dataTable, element);\n",
              "          const docLink = document.createElement('div');\n",
              "          docLink.innerHTML = docLinkHtml;\n",
              "          element.appendChild(docLink);\n",
              "        }\n",
              "      </script>\n",
              "    </div>\n",
              "  </div>\n",
              "  "
            ]
          },
          "metadata": {},
          "execution_count": 22
        }
      ],
      "source": [
        "job_descriptions_with_skills"
      ]
    },
    {
      "cell_type": "code",
      "source": [
        "# # Save the updated data to a new CSV file\n",
        "# job_descriptions_with_skills.to_csv('/content/drive/MyDrive/Graduation_project/dataset/job_data_with_skills_v1.csv', index=False)"
      ],
      "metadata": {
        "id": "AsbISv0qnI5R"
      },
      "execution_count": null,
      "outputs": []
    },
    {
      "cell_type": "markdown",
      "source": [
        "# **Tfidf**"
      ],
      "metadata": {
        "id": "p9R0xRKfe5Xq"
      }
    },
    {
      "cell_type": "code",
      "source": [
        "# Extract skills from each job description and create a TF-IDF matrix\n",
        "job_skills = job_descriptions_with_skills['combined'].apply(lambda row: ' '.join(row))\n",
        "vectorizer2 = TfidfVectorizer(stop_words='english')"
      ],
      "metadata": {
        "id": "t4MtdQ8lq0Hv"
      },
      "execution_count": null,
      "outputs": []
    },
    {
      "cell_type": "code",
      "execution_count": null,
      "metadata": {
        "id": "up7NpH33ogLs"
      },
      "outputs": [],
      "source": [
        "tfidf_matrix = vectorizer2.fit_transform(job_skills)"
      ]
    },
    {
      "cell_type": "code",
      "source": [
        "tfidf_matrix.shape"
      ],
      "metadata": {
        "colab": {
          "base_uri": "https://localhost:8080/"
        },
        "id": "vKAEtV-2OdUK",
        "outputId": "bd70c33b-4112-4528-a767-5e25636e3e4f"
      },
      "execution_count": null,
      "outputs": [
        {
          "output_type": "execute_result",
          "data": {
            "text/plain": [
              "(16954, 65699)"
            ]
          },
          "metadata": {},
          "execution_count": 26
        }
      ]
    },
    {
      "cell_type": "markdown",
      "metadata": {
        "id": "ELKvNxoZbI2H"
      },
      "source": [
        "# **doc2vec**"
      ]
    },
    {
      "cell_type": "code",
      "execution_count": null,
      "metadata": {
        "id": "yZGvlIhQTkDy"
      },
      "outputs": [],
      "source": [
        "# Define a function to convert each document into a TaggedDocument\n",
        "def tag_docs(docs):\n",
        "    tagged_docs = []\n",
        "    for i, doc in enumerate(docs):\n",
        "        # doc=ast.literal_eval(doc)\n",
        "        tagged_doc = TaggedDocument(words=doc, tags=[i])\n",
        "        tagged_docs.append(tagged_doc)\n",
        "    return tagged_docs"
      ]
    },
    {
      "cell_type": "code",
      "execution_count": null,
      "metadata": {
        "id": "CPgIWQzETvst"
      },
      "outputs": [],
      "source": [
        "# Tag the documents\n",
        "tagged_docs_combined = tag_docs(job_descriptions_with_skills['combined'])"
      ]
    },
    {
      "cell_type": "code",
      "source": [
        "\n",
        "# model_doc2vec = Doc2Vec(vector_size=400, min_count=5, epochs=200)\n",
        "# model_doc2vec.build_vocab(tagged_docs_combined)\n",
        "# model_doc2vec.train(tagged_docs_combined, total_examples=model_doc2vec.corpus_count, epochs=model_doc2vec.epochs)"
      ],
      "metadata": {
        "id": "utw_DC__zZwA"
      },
      "execution_count": null,
      "outputs": []
    },
    {
      "cell_type": "code",
      "execution_count": null,
      "metadata": {
        "id": "QLnWOipvkujz",
        "colab": {
          "base_uri": "https://localhost:8080/"
        },
        "outputId": "76617cad-7df0-420f-8a18-830cdf11217e"
      },
      "outputs": [
        {
          "output_type": "stream",
          "name": "stdout",
          "text": [
            "Model Saved\n"
          ]
        }
      ],
      "source": [
        "# model_doc2vec.save(\"/content/drive/MyDrive/Graduation_project/dataset/doc2vec_skills_v1.model\")\n",
        "# print(\"Model Saved\")"
      ]
    },
    {
      "cell_type": "code",
      "source": [
        "model_doc2vec = Doc2Vec.load('/content/drive/MyDrive/Graduation_project/dataset/doc2vec_skills_v1.model')"
      ],
      "metadata": {
        "id": "fxjDw5cp3sTl"
      },
      "execution_count": null,
      "outputs": []
    },
    {
      "cell_type": "code",
      "source": [
        "# Get the document vectors for all job postings in the dataset\n",
        "job_vectors = np.array([model_doc2vec.dv[i] for i in range(len(model_doc2vec.dv))])"
      ],
      "metadata": {
        "id": "bsrKpYIB4TXI"
      },
      "execution_count": null,
      "outputs": []
    },
    {
      "cell_type": "markdown",
      "source": [
        "# **top n **"
      ],
      "metadata": {
        "id": "jQLUlnBTXkpM"
      }
    },
    {
      "cell_type": "code",
      "source": [
        "text_cv=\"\"\" Jonathon\n",
        "Price\n",
        "4587 Terry Groves\n",
        "Boston\n",
        "MA\n",
        "Phone\n",
        "+1 (555) 134 9581\n",
        "EXPERIENCE\n",
        "New York, NY\n",
        "BOYER AND SONS\n",
        "• Use machine learning and statistical modeling techniques to\n",
        "develop and evaluate algorithms to improve performance, quality,\n",
        "data management and accuracy\n",
        "• Work with Adobe’s research teams to take the state of the art in\n",
        "research and make great products and features\n",
        "• Educational background in relevant field (Computer Science,\n",
        "Applied Math, Statistics, Operations Research, Physics,\n",
        "Computational Biology, or other quantitative fields)\n",
        "• Work with product managers to formulate the data analytics\n",
        "problem\n",
        "• Develop, simulate, test, and improve algorithms for predicting\n",
        "electrical load and generation\n",
        "• Design lean proofs of concepts (POC) to answer targeted business\n",
        "questions. Explore and work with a wide range of proprietary,\n",
        "interesting data stores. Apply existing methods or develop new\n",
        "methods. Be creative!\n",
        "• Building new models to extract more value from the customer data\n",
        "we collect, which will help us know more about users and\n",
        "merchants than anyone else in marketing or retail\n",
        "New York, NY\n",
        "KREIGER LLC\n",
        "• Provides influence and technical advice to Jr. level team members\n",
        "when developing solutions\n",
        "• Develops and adapts best practices to design and build medium\n",
        "complexity machine learning systems\n",
        "• Stay informed on the latest machine learning trends and techniques\n",
        "• Proficiency in at least one programming language Matlab, Python,\n",
        "R, Java, C++\n",
        "• Contributes to design and prototyping of medium to high\n",
        "complexity machine learning systems\n",
        "• Have a passion for all things machine learning\n",
        "• Proficiency in with at least one of the following relevant machine\n",
        "learning packages Scikit-learn, Weka, R etc…\n",
        "Los Angeles, CA\n",
        "RUNOLFSDOTTIR, DECKOW AND BEDNAR\n",
        "present\n",
        "• Collaborate with others in crafting and implementing your technical\n",
        "vision\n",
        "• Learn more about what we are doing at\n",
        "https://www.zillow.com/data-science and\n",
        "https://www.zillow.com/engineering\n",
        "• Fast-moving, developer-driven organization full of brilliant and\n",
        "ambitious people\n",
        "• Provide technical leadership to a strong team of data scientists,\n",
        "engineers, and analysts\n",
        "• We build highly parallelized, big data, machine-learning\n",
        "applications in the cloud. Sounds like a Mad Lib of marketing\n",
        "jargon, but we’re serious…that’s what you’ll be building\n",
        "• Demonstrated technical project or product development leadership\n",
        "• Expertise with data analysis languages such as Python, Scala, or R\n",
        "EDUCATION\n",
        "Bachelor’s Degree in Computer Science\n",
        "UNIVERSITY OF CALIFORNIA, SAN DIEGO\n",
        "SKILLS\n",
        "• Work in a DevOps environment managing purpose-built, highly\n",
        "available, distributed, scalable cloud services\n",
        "• Excellent problem solving skills, with attention to detail and focus\n",
        "on quality\n",
        "• Solid understanding of mathematical foundations behind Machine\n",
        "Learning algorithms, and comfortable with discussing them in\n",
        "details\n",
        "• Strong understanding and background in probability theory,\n",
        "random process, statistics, and optimization techniques\n",
        "• Solid knowledge of linear algebra and convex optimization\n",
        "techniques\n",
        "• Previous experience with either IR, NLP, text mining, machine\n",
        "learning or big data mining is highly desirable\n",
        "• Can distill highly technical knowledge and techniques to\n",
        "collaborators outside the problem domain\n",
        "• Proven track record delivering enterprise grade, scalable, secure &\n",
        "reliable software systems\n",
        "• 2+ years' experience developing highly scalable machine\n",
        "learning/deep learning based applications and services\n",
        "• Ability to work on data mining , data science projects with\n",
        "application engineering, quality engineers and product\n",
        "managemen\n",
        "\n",
        "\"\"\""
      ],
      "metadata": {
        "id": "glVVecHLlMz-"
      },
      "execution_count": null,
      "outputs": []
    },
    {
      "cell_type": "code",
      "source": [
        "def get_top_n_lsa_doc2vec(cv_skills, n):\n",
        "    cv_vector = model_doc2vec.infer_vector(cv_skills)\n",
        "\n",
        "    # Perform LSA on the job description matrix\n",
        "    lsa = TruncatedSVD(n_components=100)\n",
        "    lsa_matrix = lsa.fit_transform(job_vectors)\n",
        "\n",
        "    # Transform the CV vector using LSA\n",
        "    cv_lsa = lsa.transform(cv_vector.reshape(1, -1))\n",
        "\n",
        "    # Compute cosine similarity between the CV vector and the LSA matrix\n",
        "    similarity_scores = cosine_similarity(cv_lsa, lsa_matrix)\n",
        "\n",
        "    # Create a dataframe of the job titles and cosine similarities\n",
        "    data = {\"Job_title\": job_descriptions_with_skills[\"Job_title\"],\n",
        "            \"cosine_similarity\": similarity_scores[0]}\n",
        "    df = pd.DataFrame(data)\n",
        "\n",
        "    # Get the top n job recommendations based on cosine similarity\n",
        "    similar_jobs_indices = np.argsort(similarity_scores)[0][::-1][:n]\n",
        "    similar_jobs = df.loc[similar_jobs_indices, ['Job_title', 'cosine_similarity']]\n",
        "    print(similar_jobs)"
      ],
      "metadata": {
        "id": "y3IBdBoKAbe_"
      },
      "execution_count": null,
      "outputs": []
    },
    {
      "cell_type": "code",
      "source": [
        "n=5\n",
        "cv_id=600\n",
        "text=data_preprocessing(text_cv)#cv_data['Resume'][cv_id]\n",
        "cv_skills = extract_skills_1(text) + extract_skills_2(text)"
      ],
      "metadata": {
        "colab": {
          "base_uri": "https://localhost:8080/"
        },
        "id": "Q4Ijdq6tr8G3",
        "outputId": "c1061e90-a6ed-487f-e4cb-b65f89b0d666"
      },
      "execution_count": null,
      "outputs": [
        {
          "output_type": "stream",
          "name": "stderr",
          "text": [
            "/usr/local/lib/python3.10/dist-packages/ipykernel/ipkernel.py:283: DeprecationWarning: `should_run_async` will not call `transform_cell` automatically in the future. Please pass the result to `transformed_cell` argument and any exception that happen during thetransform in `preprocessing_exc_tuple` in IPython 7.17 and above.\n",
            "  and should_run_async(code)\n",
            "/usr/local/lib/python3.10/dist-packages/spacy/util.py:275: UserWarning: [W031] Model 'en_training' (0.0.0) requires spaCy v2.1 and is incompatible with the current spaCy version (2.3.9). This may lead to unexpected results or runtime errors. To resolve this, download a newer compatible model or retrain your custom model with the current spaCy version. For more details and available updates, run: python -m spacy validate\n",
            "  warnings.warn(warn_msg)\n"
          ]
        }
      ]
    },
    {
      "cell_type": "code",
      "source": [
        "print(f\"Name for CV {cv_id} :  {cv_data['Category'][cv_id]}\",)\n",
        "print(f\"Recommended top {n} job\")\n",
        "get_top_n_lsa_doc2vec(cv_skills,n)\n"
      ],
      "metadata": {
        "colab": {
          "base_uri": "https://localhost:8080/"
        },
        "id": "oCvbedWtAeRv",
        "outputId": "c5aefcd5-4a46-4f82-d874-51c229e1ffdc"
      },
      "execution_count": null,
      "outputs": [
        {
          "output_type": "stream",
          "name": "stderr",
          "text": [
            "/usr/local/lib/python3.10/dist-packages/ipykernel/ipkernel.py:283: DeprecationWarning: `should_run_async` will not call `transform_cell` automatically in the future. Please pass the result to `transformed_cell` argument and any exception that happen during thetransform in `preprocessing_exc_tuple` in IPython 7.17 and above.\n",
            "  and should_run_async(code)\n"
          ]
        },
        {
          "output_type": "stream",
          "name": "stdout",
          "text": [
            "Name for CV 600 :  DevOps Engineer\n",
            "Recommended top 5 job\n",
            "                                 Job_title  cosine_similarity\n",
            "4537          Data Scientist Graduate Role           0.475688\n",
            "873             Remote Data Scientist Jobs           0.469568\n",
            "390   Remote Backend Python Developer Jobs           0.457357\n",
            "4657     Research Internship Deep Learning           0.429679\n",
            "2901           Bioinformatics Data Analyst           0.422618\n"
          ]
        }
      ]
    },
    {
      "cell_type": "code",
      "source": [
        "\", \".join(cv_skills)"
      ],
      "metadata": {
        "colab": {
          "base_uri": "https://localhost:8080/",
          "height": 333
        },
        "id": "8RTtO0QNczUQ",
        "outputId": "306caece-fcac-4102-9342-faeeead61372"
      },
      "execution_count": null,
      "outputs": [
        {
          "output_type": "stream",
          "name": "stderr",
          "text": [
            "/usr/local/lib/python3.10/dist-packages/ipykernel/ipkernel.py:283: DeprecationWarning: `should_run_async` will not call `transform_cell` automatically in the future. Please pass the result to `transformed_cell` argument and any exception that happen during thetransform in `preprocessing_exc_tuple` in IPython 7.17 and above.\n",
            "  and should_run_async(code)\n"
          ]
        },
        {
          "output_type": "execute_result",
          "data": {
            "text/plain": [
              "'ny, least one programming language matlab python r java c contributes design, learning statistical modeling techniques, problem, algorithms, work, machine learning algorithms, anyone, technical leadership strong team data scientists, existing methods, background, methods, full brilliant ambitious people, nlp, problem domain, understanding, highly parallelized big data machinelearning applications cloud, cloud, highly technical knowledge techniques collaborators, experience, design, scalable, jonathon price terry, influence technical advice jr level team members, machine, nlp text mining machine, new, targeted business questions, solid knowledge linear algebra convex optimization, highly, math statistics operations research physics computational biology quantitative fields work product managers, improve, users, state art research, mad lib marketing jargon, medium, data analytics problem, us, skills, complexity, latest machine learning trends techniques proficiency, proprietary interesting data stores, mathematical foundations, proficiency, big, great products, research, r, relevant, solutions, relevant field computer science, mining, statistics, linear algebra convex, highly available distributed scalable cloud services excellent problem, building, solid, data, quality, environment, boyer sons, new methods, learning, work data mining data science projects application engineering quality engineers product managemen, python scala r education bachelor degree computer science university, deckow bednar present collaborate others, science, leadership, medium complexity machine learning systems, technical vision, techniques, developing, build, marketing, strong understanding background probability theory random process statistics optimization, least, applications, highly desirable distill, weka r etc los angeles, services, analysts, work wide range, relevant machine learning packages, computer, educational background, bachelor degree computer science university, york, systems, retail new york, details, strong, boston phone experience new york, technical, python, previous experience, team, serious building, technical project product development leadership expertise data analysis languages, new models, performance quality data management accuracy work adobe research teams, skills attention detail, highly scalable machine learningdeep learning based applications services ability, engineers, product, ny kreiger llc, develop, one, developerdriven organization, Retail, Process, R, Analysis, Lean, Engineering, Scala, Mining, Physics, Statistics, Programming, Algorithms, Matlab, Technical, Python, Biology, Modeling, Marketing, Java, Analytics, Cloud, Adobe, Electrical, Operations, C, Math, Design, Research, Prototyping'"
            ],
            "application/vnd.google.colaboratory.intrinsic+json": {
              "type": "string"
            }
          },
          "metadata": {},
          "execution_count": 98
        }
      ]
    },
    {
      "cell_type": "code",
      "execution_count": null,
      "metadata": {
        "id": "CXWj-J8h9nDq",
        "colab": {
          "base_uri": "https://localhost:8080/"
        },
        "outputId": "4bd01a17-994b-4229-e81a-6b3b89bc1450"
      },
      "outputs": [
        {
          "output_type": "stream",
          "name": "stderr",
          "text": [
            "/usr/local/lib/python3.10/dist-packages/ipykernel/ipkernel.py:283: DeprecationWarning: `should_run_async` will not call `transform_cell` automatically in the future. Please pass the result to `transformed_cell` argument and any exception that happen during thetransform in `preprocessing_exc_tuple` in IPython 7.17 and above.\n",
            "  and should_run_async(code)\n"
          ]
        }
      ],
      "source": [
        "from sklearn.decomposition import TruncatedSVD\n",
        "\n",
        "def get_top_n_tfidf(cv_text, n):\n",
        "    # Perform LSA on the job description matrix\n",
        "    lsa = TruncatedSVD(n_components=100)\n",
        "    lsa_matrix = lsa.fit_transform(tfidf_matrix)\n",
        "\n",
        "    # Transform the CV vector using the same vectorizer\n",
        "    cv_lsa = lsa.transform(vectorizer2.transform([cv_text]))\n",
        "\n",
        "    # Compute cosine similarity between the CV vector and the LSA matrix\n",
        "    similarity_scores = cosine_similarity(cv_lsa, lsa_matrix)\n",
        "\n",
        "    # Create a dataframe of the job titles and cosine similarities\n",
        "    data = {\"Job_title\": job_descriptions_with_skills[\"Job_title\"],\n",
        "            \"cosine_similarity\": similarity_scores[0]}\n",
        "    df = pd.DataFrame(data)\n",
        "\n",
        "    # Get the top n job recommendations based on cosine similarity\n",
        "    similar_jobs_indices = np.argsort(similarity_scores)[0][::-1][:n]\n",
        "    similar_jobs = df.loc[similar_jobs_indices, ['Job_title', 'cosine_similarity']]\n",
        "    print(similar_jobs)"
      ]
    },
    {
      "cell_type": "code",
      "execution_count": null,
      "metadata": {
        "colab": {
          "base_uri": "https://localhost:8080/"
        },
        "id": "oUVzjcn8y6Zr",
        "outputId": "2e862f39-0f93-42e6-c1c6-980ff8cbcb9b"
      },
      "outputs": [
        {
          "output_type": "stream",
          "name": "stderr",
          "text": [
            "/usr/local/lib/python3.10/dist-packages/ipykernel/ipkernel.py:283: DeprecationWarning: `should_run_async` will not call `transform_cell` automatically in the future. Please pass the result to `transformed_cell` argument and any exception that happen during thetransform in `preprocessing_exc_tuple` in IPython 7.17 and above.\n",
            "  and should_run_async(code)\n"
          ]
        },
        {
          "output_type": "stream",
          "name": "stdout",
          "text": [
            "Name for CV 600 :  DevOps Engineer\n",
            "Recommended top 5 job\n",
            "                                           Job_title  cosine_similarity\n",
            "3904                       Machine Learning Engineer           0.872027\n",
            "870                Remote Senior Data Scientist Jobs           0.863887\n",
            "3939                                  Data Scientist           0.852373\n",
            "873                       Remote Data Scientist Jobs           0.846592\n",
            "4675  Machine Learning Engineer Internship Part Time           0.846548\n"
          ]
        }
      ],
      "source": [
        "# Find the top 10 jobs with the highest similarity scores\n",
        "\n",
        "cv_skills_str = ' '.join(cv_skills)\n",
        "print(f\"Name for CV {cv_id} :  {cv_data['Category'][cv_id]}\",)\n",
        "print(\"Recommended top 5 job\")\n",
        "get_top_n_tfidf(cv_skills_str,n)\n",
        "\n"
      ]
    },
    {
      "cell_type": "markdown",
      "source": [
        "# **topic modling**"
      ],
      "metadata": {
        "id": "BP3H22dn8mBu"
      }
    },
    {
      "cell_type": "code",
      "source": [
        "!pip install pyLDAvis"
      ],
      "metadata": {
        "colab": {
          "base_uri": "https://localhost:8080/"
        },
        "id": "pkefCD_K8Zwb",
        "outputId": "fe3a7539-f29e-4877-d4c9-f74a72a4fcac"
      },
      "execution_count": null,
      "outputs": [
        {
          "output_type": "stream",
          "name": "stdout",
          "text": [
            "Requirement already satisfied: pyLDAvis in /usr/local/lib/python3.10/dist-packages (3.4.1)\n",
            "Requirement already satisfied: numpy>=1.24.2 in /usr/local/lib/python3.10/dist-packages (from pyLDAvis) (1.25.0)\n",
            "Requirement already satisfied: scipy in /usr/local/lib/python3.10/dist-packages (from pyLDAvis) (1.10.1)\n",
            "Requirement already satisfied: pandas>=2.0.0 in /usr/local/lib/python3.10/dist-packages (from pyLDAvis) (2.0.3)\n",
            "Requirement already satisfied: joblib>=1.2.0 in /usr/local/lib/python3.10/dist-packages (from pyLDAvis) (1.2.0)\n",
            "Requirement already satisfied: jinja2 in /usr/local/lib/python3.10/dist-packages (from pyLDAvis) (3.1.2)\n",
            "Requirement already satisfied: numexpr in /usr/local/lib/python3.10/dist-packages (from pyLDAvis) (2.8.4)\n",
            "Requirement already satisfied: funcy in /usr/local/lib/python3.10/dist-packages (from pyLDAvis) (2.0)\n",
            "Requirement already satisfied: scikit-learn>=1.0.0 in /usr/local/lib/python3.10/dist-packages (from pyLDAvis) (1.2.2)\n",
            "Requirement already satisfied: gensim in /usr/local/lib/python3.10/dist-packages (from pyLDAvis) (4.3.1)\n",
            "Requirement already satisfied: setuptools in /usr/local/lib/python3.10/dist-packages (from pyLDAvis) (67.7.2)\n",
            "Requirement already satisfied: python-dateutil>=2.8.2 in /usr/local/lib/python3.10/dist-packages (from pandas>=2.0.0->pyLDAvis) (2.8.2)\n",
            "Requirement already satisfied: pytz>=2020.1 in /usr/local/lib/python3.10/dist-packages (from pandas>=2.0.0->pyLDAvis) (2022.7.1)\n",
            "Requirement already satisfied: tzdata>=2022.1 in /usr/local/lib/python3.10/dist-packages (from pandas>=2.0.0->pyLDAvis) (2023.3)\n",
            "Requirement already satisfied: threadpoolctl>=2.0.0 in /usr/local/lib/python3.10/dist-packages (from scikit-learn>=1.0.0->pyLDAvis) (3.1.0)\n",
            "Requirement already satisfied: smart-open>=1.8.1 in /usr/local/lib/python3.10/dist-packages (from gensim->pyLDAvis) (6.3.0)\n",
            "Requirement already satisfied: MarkupSafe>=2.0 in /usr/local/lib/python3.10/dist-packages (from jinja2->pyLDAvis) (2.1.3)\n",
            "Requirement already satisfied: six>=1.5 in /usr/local/lib/python3.10/dist-packages (from python-dateutil>=2.8.2->pandas>=2.0.0->pyLDAvis) (1.12.0)\n"
          ]
        }
      ]
    },
    {
      "cell_type": "code",
      "source": [
        "# Import required packages\n",
        "import gensim\n",
        "from gensim import corpora\n",
        "import pyLDAvis.gensim_models"
      ],
      "metadata": {
        "id": "3ZRv2P2o8ko8"
      },
      "execution_count": null,
      "outputs": []
    },
    {
      "cell_type": "code",
      "source": [
        "# Creating the term dictionary of our courpus, where every unique term is assigned an index.\n",
        "dictionary = corpora.Dictionary(job_descriptions_with_skills['combined'])\n",
        "dictionary.filter_extremes(no_below=15, no_above=0.5, keep_n=100000)"
      ],
      "metadata": {
        "colab": {
          "base_uri": "https://localhost:8080/"
        },
        "id": "znw7kuf28yXe",
        "outputId": "f262a831-fe55-4ba9-ef4d-446b619f4795"
      },
      "execution_count": null,
      "outputs": [
        {
          "output_type": "stream",
          "name": "stderr",
          "text": [
            "/usr/local/lib/python3.10/dist-packages/ipykernel/ipkernel.py:283: DeprecationWarning: `should_run_async` will not call `transform_cell` automatically in the future. Please pass the result to `transformed_cell` argument and any exception that happen during thetransform in `preprocessing_exc_tuple` in IPython 7.17 and above.\n",
            "  and should_run_async(code)\n"
          ]
        }
      ]
    },
    {
      "cell_type": "code",
      "source": [
        "# Converting list of documents (corpus) into Document Term Matrix using dictionary prepared above.\n",
        "corpus = [dictionary.doc2bow(doc) for doc in job_descriptions_with_skills['combined']]"
      ],
      "metadata": {
        "colab": {
          "base_uri": "https://localhost:8080/"
        },
        "id": "sABeX7vk9tmX",
        "outputId": "6fa6a8c4-d3c1-409c-93df-5f51d987c2c3"
      },
      "execution_count": null,
      "outputs": [
        {
          "output_type": "stream",
          "name": "stderr",
          "text": [
            "/usr/local/lib/python3.10/dist-packages/ipykernel/ipkernel.py:283: DeprecationWarning: `should_run_async` will not call `transform_cell` automatically in the future. Please pass the result to `transformed_cell` argument and any exception that happen during thetransform in `preprocessing_exc_tuple` in IPython 7.17 and above.\n",
            "  and should_run_async(code)\n"
          ]
        }
      ]
    },
    {
      "cell_type": "code",
      "source": [
        "# # Creating the object for LDA model using gensim library\n",
        "# Lda = gensim.models.ldamodel.LdaModel\n",
        "# # Running and Trainign LDA model on the document term matrix.\n",
        "# ldamodel = Lda(corpus, num_topics=9, id2word = dictionary, passes=50)"
      ],
      "metadata": {
        "colab": {
          "base_uri": "https://localhost:8080/"
        },
        "id": "OgFsKyFr953H",
        "outputId": "9e245948-b7e8-45d3-c65b-1be51c7e620d"
      },
      "execution_count": null,
      "outputs": [
        {
          "output_type": "stream",
          "name": "stderr",
          "text": [
            "/usr/local/lib/python3.10/dist-packages/ipykernel/ipkernel.py:283: DeprecationWarning: `should_run_async` will not call `transform_cell` automatically in the future. Please pass the result to `transformed_cell` argument and any exception that happen during thetransform in `preprocessing_exc_tuple` in IPython 7.17 and above.\n",
            "  and should_run_async(code)\n"
          ]
        }
      ]
    },
    {
      "cell_type": "code",
      "source": [
        "# ldamodel.save(\"/content/drive/MyDrive/Graduation_project/ldamodelv2.model\")\n",
        "# print(\"Model Saved\")"
      ],
      "metadata": {
        "colab": {
          "base_uri": "https://localhost:8080/"
        },
        "id": "aeA-0Tof-NlG",
        "outputId": "80fd18ba-ecd4-4748-d14e-b356c6828828"
      },
      "execution_count": null,
      "outputs": [
        {
          "output_type": "stream",
          "name": "stderr",
          "text": [
            "/usr/local/lib/python3.10/dist-packages/ipykernel/ipkernel.py:283: DeprecationWarning: `should_run_async` will not call `transform_cell` automatically in the future. Please pass the result to `transformed_cell` argument and any exception that happen during thetransform in `preprocessing_exc_tuple` in IPython 7.17 and above.\n",
            "  and should_run_async(code)\n"
          ]
        }
      ]
    },
    {
      "cell_type": "code",
      "source": [
        "# later on, load trained model from file\n",
        "ldamodel =  gensim.models.ldamodel.LdaModel.load('/content/drive/MyDrive/Graduation_project/ldamodelv2.model')"
      ],
      "metadata": {
        "colab": {
          "base_uri": "https://localhost:8080/"
        },
        "id": "jRNicx6u_LzT",
        "outputId": "9261e8ce-a5da-4dce-a123-b2ade26e4bdd"
      },
      "execution_count": null,
      "outputs": [
        {
          "output_type": "stream",
          "name": "stderr",
          "text": [
            "/usr/local/lib/python3.10/dist-packages/ipykernel/ipkernel.py:283: DeprecationWarning: `should_run_async` will not call `transform_cell` automatically in the future. Please pass the result to `transformed_cell` argument and any exception that happen during thetransform in `preprocessing_exc_tuple` in IPython 7.17 and above.\n",
            "  and should_run_async(code)\n"
          ]
        }
      ]
    },
    {
      "cell_type": "code",
      "source": [
        "import numpy as np\n",
        "#to find the vector of a document which is not in training data\n",
        "\n",
        "# Converting cv of documents (corpus) into Document Term Matrix using dictionary prepared above.\n",
        "doc2bow_cv =dictionary.doc2bow(cv_skills)\n",
        "\n",
        "print(ldamodel.get_document_topics(doc2bow_cv,0.0))"
      ],
      "metadata": {
        "colab": {
          "base_uri": "https://localhost:8080/"
        },
        "id": "ob6Y0Wbt_DCd",
        "outputId": "eb5b8cc6-fedb-47dc-8ee1-99f3a4e750fb"
      },
      "execution_count": null,
      "outputs": [
        {
          "output_type": "stream",
          "name": "stdout",
          "text": [
            "[(0, 0.0025880614), (1, 0.0025882893), (2, 0.0025919748), (3, 0.11729023), (4, 0.48597386), (5, 0.002587467), (6, 0.26083383), (7, 0.12295472), (8, 0.0025916023)]\n"
          ]
        },
        {
          "output_type": "stream",
          "name": "stderr",
          "text": [
            "/usr/local/lib/python3.10/dist-packages/ipykernel/ipkernel.py:283: DeprecationWarning: `should_run_async` will not call `transform_cell` automatically in the future. Please pass the result to `transformed_cell` argument and any exception that happen during thetransform in `preprocessing_exc_tuple` in IPython 7.17 and above.\n",
            "  and should_run_async(code)\n"
          ]
        }
      ]
    },
    {
      "cell_type": "code",
      "source": [
        "print(f\"Name for CV {cv_id} :  {cv_data['Category'][cv_id]}\",)\n",
        "for index, score in sorted(ldamodel.get_document_topics(doc2bow_cv,0.0)[:5], key=lambda tup: -1*tup[1]):\n",
        "    print(\"Score: {}\\t Topic: {}\".format(score, ldamodel.print_topic(index, 5)))"
      ],
      "metadata": {
        "colab": {
          "base_uri": "https://localhost:8080/"
        },
        "id": "Gf1del37_ade",
        "outputId": "f13364f5-280c-4e3c-ac19-4f63e694dcc2"
      },
      "execution_count": null,
      "outputs": [
        {
          "output_type": "stream",
          "name": "stdout",
          "text": [
            "Name for CV 600 :  DevOps Engineer\n",
            "Score: 0.49358832836151123\t Topic: 0.020*\"Design\" + 0.019*\"software\" + 0.019*\"Engineering\" + 0.018*\"Technical\" + 0.017*\"Cloud\"\n",
            "Score: 0.0960303470492363\t Topic: 0.023*\"data\" + 0.020*\"Analysis\" + 0.013*\"Analytical\" + 0.012*\"Sql\" + 0.012*\"business\"\n",
            "Score: 0.002589344745501876\t Topic: 0.024*\"apply\" + 0.021*\"project\" + 0.019*\"manager\" + 0.017*\"Engineering\" + 0.017*\"Recruitment\"\n",
            "Score: 0.002587845316156745\t Topic: 0.042*\"Marketing\" + 0.038*\"Sales\" + 0.021*\"sales\" + 0.019*\"BA BS\" + 0.019*\"Strategy\"\n",
            "Score: 0.002587404102087021\t Topic: 0.042*\"Employment Agency\" + 0.018*\"We\" + 0.018*\"Employment Business\" + 0.014*\"reasonable adjustments\" + 0.013*\"Advertising\"\n"
          ]
        },
        {
          "output_type": "stream",
          "name": "stderr",
          "text": [
            "/usr/local/lib/python3.10/dist-packages/ipykernel/ipkernel.py:283: DeprecationWarning: `should_run_async` will not call `transform_cell` automatically in the future. Please pass the result to `transformed_cell` argument and any exception that happen during thetransform in `preprocessing_exc_tuple` in IPython 7.17 and above.\n",
            "  and should_run_async(code)\n"
          ]
        }
      ]
    },
    {
      "cell_type": "code",
      "source": [
        "# Compute Perplexity Score\n",
        "current_perplexity_score = ldamodel.log_perplexity(corpus)\n",
        "# Compute Coherence Score\n",
        "coherence_model_lda = gensim.models.CoherenceModel(model=ldamodel, texts=job_descriptions_with_skills['combined'], dictionary=dictionary, coherence='c_v')\n",
        "coherence_lda = coherence_model_lda.get_coherence()"
      ],
      "metadata": {
        "colab": {
          "base_uri": "https://localhost:8080/"
        },
        "id": "Gnz5aUdFAeJ0",
        "outputId": "b1dddb52-02db-41d1-8cd6-e4c4024c9cb0"
      },
      "execution_count": null,
      "outputs": [
        {
          "output_type": "stream",
          "name": "stderr",
          "text": [
            "/usr/local/lib/python3.10/dist-packages/ipykernel/ipkernel.py:283: DeprecationWarning: `should_run_async` will not call `transform_cell` automatically in the future. Please pass the result to `transformed_cell` argument and any exception that happen during thetransform in `preprocessing_exc_tuple` in IPython 7.17 and above.\n",
            "  and should_run_async(code)\n"
          ]
        }
      ]
    },
    {
      "cell_type": "code",
      "source": [
        "print('Coherence Score(Higher is better): ', coherence_lda)\n",
        "print('Perplexity Score(Lower is better): ',current_perplexity_score)"
      ],
      "metadata": {
        "colab": {
          "base_uri": "https://localhost:8080/"
        },
        "id": "qUCJx4UaBH42",
        "outputId": "dffc0158-5ebf-4a2d-9627-609d43e5b60c"
      },
      "execution_count": null,
      "outputs": [
        {
          "output_type": "stream",
          "name": "stdout",
          "text": [
            "Coherence Score(Higher is better):  0.560862044222963\n",
            "Perplexity Score(Lower is better):  -7.1587906117098585\n"
          ]
        },
        {
          "output_type": "stream",
          "name": "stderr",
          "text": [
            "/usr/local/lib/python3.10/dist-packages/ipykernel/ipkernel.py:283: DeprecationWarning: `should_run_async` will not call `transform_cell` automatically in the future. Please pass the result to `transformed_cell` argument and any exception that happen during thetransform in `preprocessing_exc_tuple` in IPython 7.17 and above.\n",
            "  and should_run_async(code)\n"
          ]
        }
      ]
    },
    {
      "cell_type": "markdown",
      "source": [
        "# **Word2vec**"
      ],
      "metadata": {
        "id": "2-3q4R2rFK7I"
      }
    },
    {
      "cell_type": "code",
      "source": [
        "#import necessary libraries\n",
        "import gensim\n",
        "from gensim.models import Word2Vec\n",
        "from gensim.models.word2vec import LineSentence"
      ],
      "metadata": {
        "colab": {
          "base_uri": "https://localhost:8080/"
        },
        "id": "seFdmIz-E8zQ",
        "outputId": "8a60a995-161e-4e91-b350-5ce77554d5a0"
      },
      "execution_count": null,
      "outputs": [
        {
          "output_type": "stream",
          "name": "stderr",
          "text": [
            "/usr/local/lib/python3.10/dist-packages/ipykernel/ipkernel.py:283: DeprecationWarning: `should_run_async` will not call `transform_cell` automatically in the future. Please pass the result to `transformed_cell` argument and any exception that happen during thetransform in `preprocessing_exc_tuple` in IPython 7.17 and above.\n",
            "  and should_run_async(code)\n"
          ]
        }
      ]
    },
    {
      "cell_type": "code",
      "source": [
        "# model = gensim.models.Word2Vec(\n",
        "#     window=10,\n",
        "#     min_count=2,\n",
        "#     workers=4,\n",
        "#     vector_size=1000,#65699\n",
        "# )\n",
        "\n",
        "# model.build_vocab(job_descriptions_with_skills['combined'], progress_per=1000)"
      ],
      "metadata": {
        "colab": {
          "base_uri": "https://localhost:8080/"
        },
        "id": "HNwlRBT9FXiQ",
        "outputId": "cf770771-05c7-47e2-ed61-69c0e5ba96cb"
      },
      "execution_count": null,
      "outputs": [
        {
          "output_type": "stream",
          "name": "stderr",
          "text": [
            "/usr/local/lib/python3.10/dist-packages/ipykernel/ipkernel.py:283: DeprecationWarning: `should_run_async` will not call `transform_cell` automatically in the future. Please pass the result to `transformed_cell` argument and any exception that happen during thetransform in `preprocessing_exc_tuple` in IPython 7.17 and above.\n",
            "  and should_run_async(code)\n"
          ]
        }
      ]
    },
    {
      "cell_type": "code",
      "source": [
        "# model.save(\"/content/drive/MyDrive/Graduation_project/Word2Vecv2.model\")\n",
        "# print(\"Model Saved\")"
      ],
      "metadata": {
        "colab": {
          "base_uri": "https://localhost:8080/"
        },
        "id": "UKBbNhxlGIgt",
        "outputId": "bc9d5115-2b9e-4543-c4db-0d7d8262153b"
      },
      "execution_count": null,
      "outputs": [
        {
          "output_type": "stream",
          "name": "stderr",
          "text": [
            "/usr/local/lib/python3.10/dist-packages/ipykernel/ipkernel.py:283: DeprecationWarning: `should_run_async` will not call `transform_cell` automatically in the future. Please pass the result to `transformed_cell` argument and any exception that happen during thetransform in `preprocessing_exc_tuple` in IPython 7.17 and above.\n",
            "  and should_run_async(code)\n"
          ]
        }
      ]
    },
    {
      "cell_type": "code",
      "source": [
        "model_word2vec= Word2Vec.load(\"/content/drive/MyDrive/Graduation_project/Word2Vecv2.model\")"
      ],
      "metadata": {
        "colab": {
          "base_uri": "https://localhost:8080/"
        },
        "id": "M5e0w4L5GRrv",
        "outputId": "5f9a4dda-b37f-42f9-b32f-a957c3ee4be0"
      },
      "execution_count": null,
      "outputs": [
        {
          "output_type": "stream",
          "name": "stderr",
          "text": [
            "/usr/local/lib/python3.10/dist-packages/ipykernel/ipkernel.py:283: DeprecationWarning: `should_run_async` will not call `transform_cell` automatically in the future. Please pass the result to `transformed_cell` argument and any exception that happen during thetransform in `preprocessing_exc_tuple` in IPython 7.17 and above.\n",
            "  and should_run_async(code)\n"
          ]
        }
      ]
    },
    {
      "cell_type": "code",
      "source": [
        "def get_job_vector(job_description):\n",
        "\n",
        "    # #tokenize the job description into individual words\n",
        "    # tokens = job_description.split()\n",
        "\n",
        "    #get the vector representation of each word in the job description\n",
        "    vectors = [model_word2vec.wv.get_vector(token) for token in job_description if token in model_word2vec.wv.key_to_index]\n",
        "    # if len(vectors) == 0:\n",
        "    #     print(f\"No vectors found for job description: {job_description} {i}\")\n",
        "    #     return None\n",
        "\n",
        "    #calculate the average vector of all words in the job description\n",
        "    avg_vector = np.mean(vectors, axis=0)\n",
        "\n",
        "    return avg_vector"
      ],
      "metadata": {
        "colab": {
          "base_uri": "https://localhost:8080/"
        },
        "id": "qtXM3QNRGfQn",
        "outputId": "f567f20e-e782-4afb-f71a-5c793efe062e"
      },
      "execution_count": null,
      "outputs": [
        {
          "output_type": "stream",
          "name": "stderr",
          "text": [
            "/usr/local/lib/python3.10/dist-packages/ipykernel/ipkernel.py:283: DeprecationWarning: `should_run_async` will not call `transform_cell` automatically in the future. Please pass the result to `transformed_cell` argument and any exception that happen during thetransform in `preprocessing_exc_tuple` in IPython 7.17 and above.\n",
            "  and should_run_async(code)\n"
          ]
        }
      ]
    },
    {
      "cell_type": "code",
      "source": [
        "all_job_vectors=[get_job_vector(i) for i in job_descriptions_with_skills['combined']]"
      ],
      "metadata": {
        "colab": {
          "base_uri": "https://localhost:8080/"
        },
        "id": "VcKhTJ9-GwNB",
        "outputId": "0bf4057e-3f13-42c0-9138-02a0a756639a"
      },
      "execution_count": null,
      "outputs": [
        {
          "output_type": "stream",
          "name": "stderr",
          "text": [
            "/usr/local/lib/python3.10/dist-packages/ipykernel/ipkernel.py:283: DeprecationWarning: `should_run_async` will not call `transform_cell` automatically in the future. Please pass the result to `transformed_cell` argument and any exception that happen during thetransform in `preprocessing_exc_tuple` in IPython 7.17 and above.\n",
            "  and should_run_async(code)\n"
          ]
        }
      ]
    },
    {
      "cell_type": "code",
      "source": [
        "#shape of each vector\n",
        "print(len(all_job_vectors),\",\",len(all_job_vectors[0]))"
      ],
      "metadata": {
        "colab": {
          "base_uri": "https://localhost:8080/"
        },
        "id": "3LlZATwSIcCl",
        "outputId": "94723ed9-c765-4dc2-9f1c-480250e4b473"
      },
      "execution_count": null,
      "outputs": [
        {
          "output_type": "stream",
          "name": "stdout",
          "text": [
            "16954 , 150\n"
          ]
        },
        {
          "output_type": "stream",
          "name": "stderr",
          "text": [
            "/usr/local/lib/python3.10/dist-packages/ipykernel/ipkernel.py:283: DeprecationWarning: `should_run_async` will not call `transform_cell` automatically in the future. Please pass the result to `transformed_cell` argument and any exception that happen during thetransform in `preprocessing_exc_tuple` in IPython 7.17 and above.\n",
            "  and should_run_async(code)\n"
          ]
        }
      ]
    },
    {
      "cell_type": "code",
      "source": [
        "from sklearn.decomposition import TruncatedSVD\n",
        "#function to get top k similar jobs based on a given job description\n",
        "def get_similar_jobs(job_description, k):\n",
        "    lsa = TruncatedSVD(n_components=100)\n",
        "    lsa_matrix = lsa.fit_transform(all_job_vectors)\n",
        "\n",
        "    # Transform the CV vector using the same vectorizer\n",
        "    cv_lsa = lsa.transform(get_job_vector(job_description).reshape(1, -1))\n",
        "\n",
        "    # Compute cosine similarity between the CV vector and the LSA matrix\n",
        "    similarity_scores = cosine_similarity(cv_lsa, lsa_matrix)\n",
        "\n",
        "    # Create a dataframe of the job titles and cosine similarities\n",
        "    data = {\"Job_title\": job_descriptions_with_skills[\"Job_title\"],\n",
        "            \"cosine_similarity\": similarity_scores[0]}\n",
        "    df = pd.DataFrame(data)\n",
        "\n",
        "    # Get the top n job recommendations based on cosine similarity\n",
        "    similar_jobs_indices = np.argsort(similarity_scores)[0][::-1][:n]\n",
        "    similar_jobs = df.loc[similar_jobs_indices, ['Job_title', 'cosine_similarity']]\n",
        "    print(similar_jobs)"
      ],
      "metadata": {
        "colab": {
          "base_uri": "https://localhost:8080/"
        },
        "id": "zL81ipoYIjow",
        "outputId": "b5cd8b8a-7e03-4d08-923a-5d8e0502f61c"
      },
      "execution_count": null,
      "outputs": [
        {
          "output_type": "stream",
          "name": "stderr",
          "text": [
            "/usr/local/lib/python3.10/dist-packages/ipykernel/ipkernel.py:283: DeprecationWarning: `should_run_async` will not call `transform_cell` automatically in the future. Please pass the result to `transformed_cell` argument and any exception that happen during thetransform in `preprocessing_exc_tuple` in IPython 7.17 and above.\n",
            "  and should_run_async(code)\n"
          ]
        }
      ]
    },
    {
      "cell_type": "code",
      "source": [
        "print(f\"Name for CV {cv_id} :  {cv_data['Category'][cv_id]}\",)\n",
        "print(\"Recommended top 5 job\")\n",
        "get_similar_jobs(cv_skills,5)"
      ],
      "metadata": {
        "colab": {
          "base_uri": "https://localhost:8080/"
        },
        "id": "tFGD4wNlIwtl",
        "outputId": "894a9b4a-9c5c-49b7-dc83-9f00c086096a"
      },
      "execution_count": null,
      "outputs": [
        {
          "output_type": "stream",
          "name": "stderr",
          "text": [
            "/usr/local/lib/python3.10/dist-packages/ipykernel/ipkernel.py:283: DeprecationWarning: `should_run_async` will not call `transform_cell` automatically in the future. Please pass the result to `transformed_cell` argument and any exception that happen during thetransform in `preprocessing_exc_tuple` in IPython 7.17 and above.\n",
            "  and should_run_async(code)\n"
          ]
        },
        {
          "output_type": "stream",
          "name": "stdout",
          "text": [
            "Name for CV 600 :  DevOps Engineer\n",
            "Recommended top 5 job\n",
            "                                              Job_title  cosine_similarity\n",
            "1430  Reference Data Operations Analyst Index Instru...           0.498211\n",
            "986        Data Modeling Segmentation Senior Supervisor           0.491261\n",
            "2945                         Senior Claims Data Analyst           0.481294\n",
            "2992                         Senior Claims Data Analyst           0.478027\n",
            "8054    C Core Systems Engineer Innovative Algo Trading           0.462209\n"
          ]
        }
      ]
    }
  ],
  "metadata": {
    "colab": {
      "provenance": [],
      "gpuType": "T4",
      "include_colab_link": true
    },
    "kernelspec": {
      "display_name": "Python 3",
      "name": "python3"
    },
    "language_info": {
      "name": "python"
    }
  },
  "nbformat": 4,
  "nbformat_minor": 0
}